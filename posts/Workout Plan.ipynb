{
 "cells": [
  {
   "cell_type": "raw",
   "id": "4d4ebc7c-b388-4e2f-8729-6ec964441593",
   "metadata": {},
   "source": [
    "---\n",
    "title: \"Workout Plans\"\n",
    "description: \"Workout Plans with ChatGPT and Anthropic\" \n",
    "author: \"Emma\"\n",
    "date: \"3/25/2025\"\n",
    "categories:\n",
    "  - LLMs\n",
    "  - Fitness\n",
    "---"
   ]
  },
  {
   "cell_type": "markdown",
   "id": "523e5472-d2d2-4e75-9b0d-35e4f473dcf7",
   "metadata": {},
   "source": [
    "### Introduction"
   ]
  },
  {
   "cell_type": "markdown",
   "id": "10f346f6-ea1e-4ba6-ba1e-b8fa4d103598",
   "metadata": {},
   "source": [
    "I absolutely love going to the gym, but I am not a gym pro by any means. As of recent I have been utilizing ChatGPT to give me workout recommendations. I then realized I am always using Chat and was curious to compare the results with Anthropic.   "
   ]
  },
  {
   "cell_type": "markdown",
   "id": "5096f254-b35e-4aa9-8c53-4ef5a2503822",
   "metadata": {},
   "source": [
    "### The Prompt"
   ]
  },
  {
   "cell_type": "markdown",
   "id": "31e8efdb-a803-4bff-bdb1-f3dbd7c9fc21",
   "metadata": {},
   "source": [
    "Give me a 1 hour workout routine"
   ]
  },
  {
   "cell_type": "markdown",
   "id": "abb47dad-84a8-4a51-865e-eefddfb46fe2",
   "metadata": {},
   "source": [
    "### Anthropic Response"
   ]
  },
  {
   "cell_type": "markdown",
   "id": "f1fdc6ff-cea9-4b2a-8452-66670f1bd620",
   "metadata": {},
   "source": [
    "1-Hour Full Body Workout Routine\n",
    "Warm-up (5 minutes)\n",
    "Jumping jacks: 1 minute\n",
    "Arm circles: 30 seconds each direction\n",
    "Bodyweight squats: 1 minute\n",
    "High knees: 1 minute\n",
    "Hip rotations: 30 seconds each direction\n",
    "Main Circuit (40 minutes)\n",
    "Complete 4 rounds of this circuit, spending 45 seconds on each exercise with 15 seconds rest between exercises. Rest 1 minute between rounds.\n",
    "\n",
    "Push-ups (modify on knees if needed)\n",
    "Bodyweight squats\n",
    "Plank\n",
    "Lunges (alternating legs)\n",
    "Mountain climbers\n",
    "Glute bridges\n",
    "Bicycle crunches\n",
    "Burpees (modify as needed)\n",
    "Strength Focus (10 minutes)\n",
    "3 sets of the following, 30 seconds work, 30 seconds rest\n",
    "\n",
    "Squat pulses\n",
    "Tricep dips (using chair/bench)\n",
    "Superman holds\n",
    "Cool Down (5 minutes)\n",
    "Hamstring stretch: 30 seconds each leg\n",
    "Quad stretch: 30 seconds each leg\n",
    "Child's pose: 30 seconds\n",
    "Chest stretch: 30 seconds\n",
    "Neck stretches: 30 seconds\n",
    "Deep breathing: 1 minute\n",
    "Remember to drink water throughout your workout and adjust the intensity as needed for your fitness level!\n",
    "\n",
    "\n",
    "\n",
    "\n",
    "\n",
    "\n",
    "\n"
   ]
  },
  {
   "cell_type": "markdown",
   "id": "91df66ee-b8a7-4eaa-832b-ea7992c639cf",
   "metadata": {},
   "source": [
    "### ChatGPT Response"
   ]
  },
  {
   "cell_type": "markdown",
   "id": "fa5dcd65-f955-4911-9a92-a4b6aaf4f29f",
   "metadata": {},
   "source": [
    "Here's a well-rounded 1-hour workout routine that balances strength, cardio, and flexibility. Make sure to warm up and cool down to prevent injury and aid recovery.\n",
    "\n",
    "# Warm-Up (10 minutes)\n",
    "- **Jumping Jacks**: 3 minutes\n",
    "- **Dynamic Stretches**:\n",
    "  - Arm Circles: 1 minute\n",
    "  - Leg Swings: 1 minute per leg\n",
    "  - Hip Circles: 1 minute\n",
    "- **High Knees**: 2 minutes\n",
    "\n",
    "# Strength Training (30 minutes)\n",
    "# Circuit 1 (15 minutes)\n",
    "**Perform each exercise for 45 seconds followed by 15 seconds of rest. Repeat the circuit twice.**\n",
    "- **Push-Ups**\n",
    "- **Squats**\n",
    "- **Bent-Over Rows** (using dumbbells or resistance bands)\n",
    "- **Plank**\n",
    "\n",
    "# Circuit 2 (15 minutes)\n",
    "**Perform each exercise for 45 seconds followed by 15 seconds of rest. Repeat the circuit twice.**\n",
    "- **Lunges** (alternating legs)\n",
    "- **Dumbbell Shoulder Press**\n",
    "- **Deadlifts** (with dumbbells or kettlebell)\n",
    "- **Bicycle Crunches**\n",
    "\n",
    "# Cardio (10 minutes)\n",
    "- **Burpees**: 1 minute\n",
    "- **Mountain Climbers**: 1 minute\n",
    "- **Jump Rope**: 3 minutes\n",
    "- **High-Intensity Interval Training (HIIT) Sprints**: 30 seconds on, 30 seconds rest (3 rounds)\n",
    "\n",
    "# Flexibility and Cool Down (10 minutes)\n",
    "- **Standing Forward Bend**: 1 minute\n",
    "- **Cat-Cow Stretch**: 1 minute\n",
    "- **Child’s Pose**: 1 minute\n",
    "- **Seated Forward Bend**: 1 minute\n",
    "- **Pigeon Pose**: 1 minute per leg\n",
    "- **Quad Stretch**: 1 minute per leg\n",
    "- **Shoulder Stretch**: 1 minute per arm\n",
    "\n",
    "# Tips\n",
    "- Adjust the intensity and weights according to your fitness level.\n",
    "- Stay hydrated and listen to your body to avoid overexertion.\n",
    "- Ensure proper form to maximize benefits and minimize injury risk.\n",
    "\n",
    "This workout covers all major muscle groups, includes cardiovascular and flexibility components, and can be adjusted according to your fitness level and specific goals."
   ]
  },
  {
   "cell_type": "markdown",
   "id": "11202182-d2c5-4652-9049-43f84a83b3ac",
   "metadata": {},
   "source": [
    "### Commentary"
   ]
  },
  {
   "cell_type": "markdown",
   "id": "3580b43b-0adc-4b2b-b27c-2d1f844ddee0",
   "metadata": {},
   "source": [
    "Both of the responses had roughly the same format. They both gave a warm up. ChatGPTs warm up was 10 minutes long, which I feel for a personalized workout is not my reality. The excersises for the warm ups were the same, dynamic stretches. After that it was the main circuit. That main portion of the workout was a circut. ChatGPT split it into two circuits with 4 excerises each while anthropic did 1 circuit for 8 exercises. ChatGPT had a cardio specific section. For anthropic it's first main circuit had a mix of cardio and toning exercises. While ChatGPT had strength training only in its first two circuits then it went into a cardio circuit. The exercises were practically the same. They both gave a circuit format which was interesting. When I workout I often superset (two sets in a row, then rest). I did find ChatGPTs formatting much better and more digestable. Therefore, in the future I will probably go with ChatGPT. "
   ]
  }
 ],
 "metadata": {
  "citation-manager": {
   "items": {}
  },
  "kernelspec": {
   "display_name": "Python 3-12 (COMM4190)",
   "language": "python",
   "name": "python3-12_comm4190"
  },
  "language_info": {
   "codemirror_mode": {
    "name": "ipython",
    "version": 3
   },
   "file_extension": ".py",
   "mimetype": "text/x-python",
   "name": "python",
   "nbconvert_exporter": "python",
   "pygments_lexer": "ipython3",
   "version": "3.12.8"
  }
 },
 "nbformat": 4,
 "nbformat_minor": 5
}
