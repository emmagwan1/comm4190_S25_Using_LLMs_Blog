{
 "cells": [
  {
   "cell_type": "raw",
   "id": "1d9b032f-46c9-448b-acd2-8200ba0d44bf",
   "metadata": {},
   "source": [
    "---\n",
    "title: \"Book Reccomendations Part 1\"\n",
    "description: \"Comparing Book Recommendations from ChatGPT to Anthropic\" \n",
    "author: \"Emma\"\n",
    "date: \"5/10/2025\"\n",
    "categories:\n",
    "  - LLMs\n",
    "  - Comparison\n",
    "  - ChatGPT\n",
    "  - Anthropic\n",
    "---"
   ]
  },
  {
   "cell_type": "markdown",
   "id": "74a45cc3-8e91-445a-899a-a07dd813570f",
   "metadata": {},
   "source": [
    "### Introduction\n",
    "As the semester is coming to an end, I am hoping that I will have more free time to do some leisure reading. I used this inspiration for this blog post. I asked ChatGPT and Anthropic to give me 5 book reccomendations. "
   ]
  },
  {
   "cell_type": "markdown",
   "id": "358cf93f-791a-4bf1-9103-3b0b8c9f1f26",
   "metadata": {},
   "source": [
    "## The Prompt\n",
    "Give me 5 book reccomendations"
   ]
  },
  {
   "cell_type": "markdown",
   "id": "1346ef51-6c4b-4866-9306-e8a1b8f25103",
   "metadata": {},
   "source": [
    "## ChatGPT Response\n",
    "Sure! Here are five book recommendations across different genres:\n",
    "\n",
    "1. **\"The Night Circus\" by Erin Morgenstern**\n",
    "   - *Genre:* Fantasy\n",
    "   - *Summary:* This enchanting novel tells the story of a magical competition between two young illusionists at a mysterious circus that appears only at night. Rich with vivid descriptions and a captivating storyline, it’s a perfect read for those who love magic and romance.\n",
    "\n",
    "2. **\"Educated\" by Tara Westover**\n",
    "   - *Genre:* Memoir\n",
    "   - *Summary:* This powerful memoir recounts Tara Westover’s journey from growing up in a strict and isolated household in rural Idaho to earning a PhD from Cambridge University. It's a testament to the resilience of the human spirit and the transformative power of education.\n",
    "\n",
    "3. **\"Where the Crawdads Sing\" by Delia Owens**\n",
    "   - *Genre:* Historical Fiction/Mystery\n",
    "   - *Summary:* Set in the marshes of North Carolina, this novel follows the life of Kya Clark, an abandoned girl who learns to survive on her own. Blending elements of mystery, romance, and coming-of-age, it's an evocative story of resilience and belonging.\n",
    "\n",
    "4. **\"Sapiens: A Brief History of Humankind\" by Yuval Noah Harari**\n",
    "   - *Genre:* Non-fiction/History\n",
    "   - *Summary:* This thought-provoking book explores the history of our species, from the Stone Age to the modern age. Harari examines the concepts that have shaped humanity and offers insights on where we might be heading in the future.\n",
    "\n",
    "5. **\"The Alchemist\" by Paulo Coelho**\n",
    "   - *Genre:* Fiction/Philosophical\n",
    "   - *Summary:* This inspirational novel follows Santiago, a young shepherd, on his quest to find a hidden treasure. His journey through the desert is both a literal and figurative quest for understanding, purpose, and inner fulfillment.\n",
    "\n",
    "Each of these books offers a unique perspective and is highly regarded in its respective genre. Enjoy your reading!\n",
    "\n",
    "### USER\n",
    "who was this list for\n",
    "\n",
    "### ASSISTANT\n",
    "The list was created with a general audience in mind, offering a diverse selection of popular and highly regarded books across various genres. It includes a mix of fiction and non-fiction to cater to different reading preferences and interests. If you have specific genres or themes in mind, I can tailor recommendations more closely to your preferences."
   ]
  },
  {
   "cell_type": "markdown",
   "id": "df5195a2-051f-445f-9ebe-6ae604173dee",
   "metadata": {},
   "source": [
    "### Anthropic Response\n",
    "# 5 Book Recommendations\n",
    "\n",
    "## 1. \"The Midnight Library\" by Matt Haig\n",
    "A thought-provoking novel about regret, possibility, and the choices that shape our lives. When Nora Seed finds herself in a library between life and death, each book represents a different version of her life had she made different choices. It's a beautiful exploration of what makes a life worth living.\n",
    "\n",
    "## 2. \"Educated\" by Tara Westover\n",
    "This powerful memoir chronicles Westover's journey from growing up in a strict and abusive household with survivalist parents in rural Idaho to earning a PhD from Cambridge University. It's a remarkable story about the transformative power of education and self-invention.\n",
    "\n",
    "## 3. \"The House in the Cerulean Sea\" by TJ Klune\n",
    "A heartwarming fantasy novel about a by-the-book caseworker in the Department of Magical Youth who's sent to investigate an orphanage of unusual children. It's a charming story about found family, acceptance, and standing up for what's right, even when it's difficult.\n",
    "\n",
    "## 4. \"Atomic Habits\" by James Clear\n",
    "This practical guide breaks down the science of habit formation and provides actionable strategies for making positive changes in your life. Clear explains how tiny changes can yield remarkable results over time through his four-step model of habit formation.\n",
    "\n",
    "## 5. \"The Overstory\" by Richard Powers\n",
    "A sweeping, passionate novel about nine Americans whose unique life experiences with trees bring them together to address the destruction of forests. Winner of the Pulitzer Prize, this book changes how you see the natural world and humanity's place within it.\n",
    "\n",
    "Each of these books offers something different—from practical self-improvement to profound fiction—but all have the potential to shift your perspective and stay with you long after you've turned the final page.\n",
    "\n",
    "### USER\n",
    "who was this list for\n",
    "\n",
    "### ASSISTANT\n",
    "This list wasn't created for any specific person - I generated these recommendations without knowing your personal reading preferences or interests. These are generally well-regarded books across different genres (literary fiction, memoir, fantasy, self-improvement, and environmental fiction) that appeal to many readers.\n",
    "\n",
    "If you'd like recommendations tailored to your specific interests, reading history, or preferences, I'd be happy to create a more personalized list. Just let me know what types of books you typically enjoy, any favorite authors, genres you prefer, or topics you're interested in exploring!"
   ]
  },
  {
   "cell_type": "markdown",
   "id": "a9f26663-bda1-4245-98ae-0fd025cde137",
   "metadata": {},
   "source": [
    "### Analysis \n",
    "Both book lists offer a really great mix of stories that either help you escape into another world or reflect more deeply on your own. When asked both models the book lists weren't tailored to a specific person or genre just highly regarded books. Educated showed up on both lists. They each include a blend of fiction and non-fiction, so whether you're in the mood for something imaginative like *The Night Circus* or *The House in the Cerulean Sea*, or something eye-opening like *Sapiens* or *Atomic Habits*, there’s something for everyone. A lot of the books also carry themes of growth, identity, and transformation—like *Educated*, which shows up on both lists and really highlights how powerful it can be to take control of your own path. Even the novels, like *Where the Crawdads Sing* or *The Midnight Library*, have characters working through big emotional or life-changing moments.\n",
    "\n",
    "Where they differ is mostly in tone and focus. The first list leans more literary and philosophical—books like *The Alchemist* and *Sapiens* are the kind that make you think big-picture about life and purpose. The second list feels more modern and emotionally engaging, with books like *The Overstory* bringing in environmental themes, and *Atomic Habits* giving you practical advice for real-life improvement. If the first list is about wondering what life means, the second is more about how to live it well. But overall, both are full of deeply moving, memorable reads that stick with you in different ways.\n"
   ]
  }
 ],
 "metadata": {
  "kernelspec": {
   "display_name": "Python 3-12 (COMM4190)",
   "language": "python",
   "name": "python3-12_comm4190"
  },
  "language_info": {
   "codemirror_mode": {
    "name": "ipython",
    "version": 3
   },
   "file_extension": ".py",
   "mimetype": "text/x-python",
   "name": "python",
   "nbconvert_exporter": "python",
   "pygments_lexer": "ipython3",
   "version": "3.12.8"
  }
 },
 "nbformat": 4,
 "nbformat_minor": 5
}
