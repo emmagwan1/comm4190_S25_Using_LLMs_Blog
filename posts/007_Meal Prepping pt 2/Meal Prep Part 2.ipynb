{
 "cells": [
  {
   "cell_type": "raw",
   "id": "e9e750c5-7860-45c1-9819-072af9861dc5",
   "metadata": {},
   "source": [
    "---\n",
    "title: \"Meal Prepping Part 2\"\n",
    "description: \"Race and Meal Prep using Anthropic \" \n",
    "author: \"Emma\"\n",
    "date: \"3/15/2025\"\n",
    "categories:\n",
    "  - LLMs\n",
    "  - Cooking\n",
    "  - Race\n",
    "  - Anthropic\n",
    "---"
   ]
  },
  {
   "cell_type": "markdown",
   "id": "3afbf93a-90ee-433b-b1fb-7db01c16f54b",
   "metadata": {},
   "source": [
    "#### Introduction"
   ]
  },
  {
   "cell_type": "markdown",
   "id": "4e14c3ed-4d03-470f-9cc2-5f0a0d6aa5d3",
   "metadata": {},
   "source": [
    "Okay so I just did part 1 of the Meal Prep Blog. There I compared 2 prompts asking *ChatGPT* to help me meal prep. The first prompt as a Black woman and the second was generic. So my finding was that there was no difference between the two except for the cost. I decided to do the same thing with Anthropic, and here are my thoughts. "
   ]
  },
  {
   "cell_type": "markdown",
   "id": "acbf1823-590d-4b6a-8104-269e344a6bc0",
   "metadata": {},
   "source": [
    "#### Prompt 1"
   ]
  },
  {
   "cell_type": "markdown",
   "id": "f17744a6-f2f2-45b1-a6bd-9ad130110ed3",
   "metadata": {},
   "source": [
    "Help me meal prep for a day. I need breakfast, lunch ,and dinner and a snack. Give me the budget at the end."
   ]
  },
  {
   "cell_type": "markdown",
   "id": "4efad067-b806-41e4-8429-deeb6dcd9f18",
   "metadata": {},
   "source": [
    "#### Response 1"
   ]
  },
  {
   "cell_type": "markdown",
   "id": "b6ff507e-de78-431d-9690-f9363307c3ac",
   "metadata": {},
   "source": [
    "# One-Day Meal Prep Plan\n",
    "\n",
    "## Breakfast\n",
    "**Overnight Oats**\n",
    "- ½ cup rolled oats ($0.15)\n",
    "- ⅔ cup milk ($0.25)\n",
    "- 1 tablespoon chia seeds ($0.20)\n",
    "- ½ tablespoon honey ($0.10)\n",
    "- ¼ cup berries ($0.75)\n",
    "- Dash of cinnamon ($0.02)\n",
    "\n",
    "*Prep: Combine all ingredients in a jar the night before and refrigerate.*\n",
    "\n",
    "## Lunch\n",
    "**Chicken and Vegetable Wrap**\n",
    "- 1 whole wheat tortilla ($0.35)\n",
    "- 3 oz cooked chicken breast ($1.25)\n",
    "- ¼ avocado, sliced ($0.50)\n",
    "- Handful of spinach ($0.30)\n",
    "- 2 tablespoons hummus ($0.25)\n",
    "- Few slices of cucumber and bell pepper ($0.35)\n",
    "\n",
    "*Prep: Assemble in the morning or prepare components separately and assemble before eating.*\n",
    "\n",
    "## Dinner\n",
    "**Sheet Pan Salmon with Roasted Vegetables**\n",
    "- 4 oz salmon fillet ($3.00)\n",
    "- 1 cup broccoli florets ($0.60)\n",
    "- ½ cup sweet potato cubes ($0.40)\n",
    "- ½ cup cherry tomatoes ($0.75)\n",
    "- 1 tablespoon olive oil ($0.20)\n",
    "- Garlic, herbs, salt, and pepper ($0.15)\n",
    "\n",
    "*Prep: Season everything and store ready to bake. Cook at 400°F for about 20 minutes.*\n",
    "\n",
    "## Snack\n",
    "**Greek Yogurt Parfait**\n",
    "- ¾ cup Greek yogurt ($0.85)\n",
    "- 1 tablespoon granola ($0.15)\n",
    "- ½ tablespoon honey ($0.10)\n",
    "- ¼ cup mixed berries ($0.75)\n",
    "\n",
    "*Prep: Keep yogurt separate from toppings until ready to eat.*\n",
    "\n",
    "## Total Budget\n",
    "Breakfast: $1.47\n",
    "Lunch: $3.00\n",
    "Dinner: $5.10\n",
    "Snack: $1.85\n",
    "\n",
    "**Daily Total: $11.42**\n",
    "\n",
    "*Note: Prices are estimates and may vary based on your location and where you shop.*"
   ]
  },
  {
   "cell_type": "markdown",
   "id": "086f8b41-63c0-41ff-8e02-f87b299611bd",
   "metadata": {},
   "source": [
    "#### Prompt 2"
   ]
  },
  {
   "cell_type": "markdown",
   "id": "5987dcdd-3f01-49f3-9af0-d8020554969d",
   "metadata": {},
   "source": [
    "I am a Black woman meal prep for a day. I need breakfast, lunch ,and dinner and a snack. Give me the budget at the end."
   ]
  },
  {
   "cell_type": "markdown",
   "id": "1618937c-1845-46da-ad55-f4d5b8f171a1",
   "metadata": {},
   "source": [
    "#### Response 2"
   ]
  },
  {
   "cell_type": "markdown",
   "id": "310e0aee-c3bc-4bc8-8051-e63b58c7e912",
   "metadata": {},
   "source": [
    "# Daily Meal Prep for a Busy Woman\n",
    "\n",
    "## Breakfast\n",
    "**Overnight Oats with Berries**\n",
    "- ½ cup rolled oats ($0.25)\n",
    "- ½ cup milk of choice ($0.30)\n",
    "- 1 tablespoon chia seeds ($0.25)\n",
    "- ½ cup mixed berries ($1.00)\n",
    "- 1 tablespoon honey ($0.15)\n",
    "- Dash of cinnamon ($0.02)\n",
    "\n",
    "*Prep the night before: Combine ingredients in a jar and refrigerate overnight*\n",
    "\n",
    "## Lunch\n",
    "**Jerk Chicken Salad Bowl**\n",
    "- 4 oz grilled chicken breast, seasoned with jerk spices ($1.50)\n",
    "- 2 cups mixed greens ($0.75)\n",
    "- ¼ cup black beans ($0.20)\n",
    "- ¼ cup corn ($0.20)\n",
    "- ¼ avocado, sliced ($0.50)\n",
    "- 2 tablespoons homemade vinaigrette (olive oil, lime juice, herbs) ($0.25)\n",
    "\n",
    "*Pack dressing separately and add just before eating*\n",
    "\n",
    "## Dinner\n",
    "**One-Pan Sweet Potato and Turkey Skillet**\n",
    "- 4 oz ground turkey ($1.25)\n",
    "- 1 small sweet potato, diced ($0.75)\n",
    "- ½ cup bell peppers, sliced ($0.50)\n",
    "- ¼ cup onion, diced ($0.15)\n",
    "- 1 cup kale, chopped ($0.50)\n",
    "- 1 tablespoon olive oil ($0.20)\n",
    "- Herbs and spices (garlic, thyme, paprika) ($0.15)\n",
    "\n",
    "## Snack\n",
    "**Yogurt Parfait**\n",
    "- ½ cup Greek yogurt ($0.75)\n",
    "- 1 tablespoon granola ($0.15)\n",
    "- ½ tablespoon honey ($0.08)\n",
    "- Small handful of nuts ($0.50)\n",
    "\n",
    "## Total Budget: $10.35\n",
    "\n",
    "*This meal plan provides balanced nutrition with protein, healthy fats, and complex carbohydrates to keep you energized throughout your day.*"
   ]
  },
  {
   "cell_type": "markdown",
   "id": "b3406c25-df4b-4891-a4b9-fc004a4df22f",
   "metadata": {},
   "source": [
    "#### Commentary"
   ]
  },
  {
   "cell_type": "markdown",
   "id": "563975bc-bcc4-4793-a754-b4444ebef0af",
   "metadata": {},
   "source": [
    "My first remark in the part 1 was about price. The price for both of the meals were roughly the same around $10-$11 dollars. \n",
    "\n",
    "## The Title\n",
    "The title between the two prompts was interesting for the Black woman it said a meal prep for a *busy* woman. While the generic said \"One-Day Meal Prep\". I appreciated this because when I think of Black women I think of my mom and aunts, and just how hard/much they work and are always busy. So yea. \n",
    "\n",
    "## The meals\n",
    "Just like ChatGPT, the meals are very healthy. On Anthropic, it was funny seeing the <exact> same breakfast *and* snack on both prompts :the overnight oats and yogurt parfait. In comparison to ChatGPT this redundancy feels like a lack of creativity. \n",
    "\n",
    "**TAKEAWAY** The real shocker was the lunch! The meal prep for the Black woman was a **Jerk** chicken salad bowl vs. a chicken veggie wrap on the generic prompt. This was cool and definately cultural tailoring, because jerk chicken and jerk spice is eaten in the caribbean. (I'm Haitian, so I know trust). I appreciated this because it was a great fusion meal choice, because at caribbean restaurants or homes you aren't going to have a salad bowl, it'll probably be paired with rice n beans. So this salad is a good way to keep it healthy with ethnic flavors. I appreciated this addition. \n",
    "\n",
    "\n",
    "# Additionally \n",
    "Anthropic did not give the best instructions and as in depth of a recipe. \n",
    "\n"
   ]
  }
 ],
 "metadata": {
  "kernelspec": {
   "display_name": "Python 3-12 (COMM4190)",
   "language": "python",
   "name": "python3-12_comm4190"
  },
  "language_info": {
   "codemirror_mode": {
    "name": "ipython",
    "version": 3
   },
   "file_extension": ".py",
   "mimetype": "text/x-python",
   "name": "python",
   "nbconvert_exporter": "python",
   "pygments_lexer": "ipython3",
   "version": "3.12.8"
  }
 },
 "nbformat": 4,
 "nbformat_minor": 5
}
