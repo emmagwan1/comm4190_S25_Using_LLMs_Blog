{
 "cells": [
  {
   "cell_type": "raw",
   "id": "bc3fcea7-e035-4efc-8750-2b72c523f13f",
   "metadata": {},
   "source": [
    "---\n",
    "title: \"Daily Devotional\"\n",
    "description: \"Comparing christian devotionals from ChatGPT and Claude\" \n",
    "author: \"Emma\"\n",
    "date: \"5/10/2025\"\n",
    "categories:\n",
    "  - LLMs\n",
    "  - Learning\n",
    "---"
   ]
  },
  {
   "cell_type": "markdown",
   "id": "bba1640c-a139-4d65-bca6-666f4696a73c",
   "metadata": {},
   "source": [
    "## Introduction"
   ]
  },
  {
   "cell_type": "markdown",
   "id": "91d0282a-e242-44ec-b178-5d20e4298ced",
   "metadata": {},
   "source": [
    "Every morning I wake up and do my daily devotional. Currently, I use the bible app because I had finished a woman's study bible devotional. I am always looking for new plans/scriptures on the bible app that pertain to what I am going through and what I need. So for this blog post I decided to ask both ChatGPT and Anthropic to give me a devotional for today. "
   ]
  },
  {
   "cell_type": "markdown",
   "id": "ed437022-f313-4217-a846-f647d6c4cefb",
   "metadata": {},
   "source": [
    "## Prompt\n",
    "\"give me a daily devotional\""
   ]
  },
  {
   "cell_type": "markdown",
   "id": "f3206e04-d144-42f1-b033-d009662371f6",
   "metadata": {},
   "source": [
    "## ChatGPT Response"
   ]
  },
  {
   "cell_type": "markdown",
   "id": "e982e36c-d4e2-47bc-a94f-39a77210b7d1",
   "metadata": {},
   "source": [
    "### USER\n",
    "Give me a daily devotional\n",
    "\n",
    "### ASSISTANT\n",
    "Here's a daily devotional for you:\n",
    "\n",
    "**Title: Strength in Stillness**\n",
    "\n",
    "**Scripture:** Psalm 46:10 - \"Be still, and know that I am God; I will be exalted among the nations, I will be exalted in the earth.\"\n",
    "\n",
    "**Reflection:**\n",
    "\n",
    "In the hustle and bustle of our daily lives, it can be incredibly challenging to find moments of stillness. We often equate activity with productivity and forget the power of simply being still and present. Psalm 46:10 is a gentle yet firm reminder that God calls us to pause amidst our chaos, to cease striving and recognize His sovereignty.\n",
    "\n",
    "Being still isn't about inaction but about resting in the knowledge that God is in control. When we feel overwhelmed by our responsibilities or anxieties, taking a moment to be still can center us. It allows us to draw strength from God, acknowledging that He holds our future and the world in His hands.\n",
    "\n",
    "**Prayer:**\n",
    "\n",
    "Heavenly Father, teach me the value of stillness in Your presence. When my life feels chaotic and uncertain, help me to pause and remember that You are God. Grant me peace and comfort, knowing that You are exalted above all. May my moments of stillness draw me closer to You and renew my strength for the tasks ahead. Amen.\n",
    "\n",
    "**Action Step:**\n",
    "\n",
    "Set aside a few minutes today to sit in silence. Use this time to quiet your mind and focus on God's presence. Reflect on His greatness and allow His peace to fill your heart."
   ]
  },
  {
   "cell_type": "markdown",
   "id": "816d19a1-29a0-4ee3-a00f-3f151cf7ace7",
   "metadata": {},
   "source": [
    "### Anthropic Response\n",
    "## USER\n",
    "give me a daily devotional\n",
    "\n",
    "## ASSISTANT\n",
    "# Daily Devotional: Finding Peace in the Present\n",
    "\n",
    "## Scripture\n",
    "\"Therefore do not worry about tomorrow, for tomorrow will worry about itself. Each day has enough trouble of its own.\" - Matthew 6:34\n",
    "\n",
    "## Reflection\n",
    "In our fast-paced world, we often find ourselves caught between regrets of the past and anxieties about the future. Yet today's verse reminds us of a profound truth: we are called to live in the present moment. \n",
    "\n",
    "When we worry about tomorrow, we rob ourselves of the peace available to us today. This doesn't mean we shouldn't plan wisely, but rather that we shouldn't allow concern for what might happen to overshadow what is happening right now.\n",
    "\n",
    "Each day comes with its own challenges, but also with its own blessings and opportunities. When we focus our attention on the present, we can more clearly see God's hand at work in our lives and respond to His guidance.\n",
    "\n",
    "## Prayer\n",
    "Loving Father, help me to trust You with my tomorrows so I can fully live in today. Give me the wisdom to recognize Your presence in each moment and the courage to face today's challenges without borrowing tomorrow's worries. Thank You for Your faithful provision and constant care. Amen.\n",
    "\n",
    "## Today's Challenge\n",
    "Take five minutes today to simply be present. Put away distractions, take deep breaths, and notice the details of your surroundings. Acknowledge God's presence with you in this moment, and offer gratitude for specific blessings in your life right now."
   ]
  },
  {
   "cell_type": "markdown",
   "id": "7364f095-c6c6-4ddd-b266-e0da4f88f7c8",
   "metadata": {},
   "source": [
    "## Analysis \n",
    "I really liked these devotionals. They both included essential parts that I appreciated. The scripture, reflections, prayer, then action steps. They both focused on the same theme of being in the present with much of today's hustle and bustle. \n",
    "\n",
    "The Anthropic Response is all about letting go of worry about the future and focusing on what’s right in front of you. It draws on the idea of daily peace—reminding us that each day has its own troubles, so there’s no need to borrow stress from tomorrow. The scripture highlights the importance of trusting God with what’s ahead, and emotionally, it speaks to people who feel anxious about what’s next. The challenge is to be more mindful and present, practicing gratitude and noticing the small blessings happening right now.\n",
    "\n",
    "On the other hand, ChatGPT zooms in on the idea of simply being still—pausing to recognize that God is in control. The focus here is on God's sovereignty and stepping back from the rush of life to remember who’s really in charge. It connects more with people who feel overwhelmed or stretched thin, offering a moment of silence and spiritual grounding. Instead of focusing on what’s happening around us, it encourages sitting quietly and reflecting on God’s greatness. The tone invites awe, like taking a deep breath and realizing you’re not carrying everything alone. \n",
    "\n",
    "These are both good tangible and practical devotionals. The one thing I would say is I prefer ChatGPTs response more. This is solely because it gets to the point of what a devotional is, to focus on God. So while the themes are roughly the same the caveat is that GPT has to make time for God when life is crazy putting a greater emphasis on God.\n"
   ]
  },
  {
   "cell_type": "code",
   "execution_count": null,
   "id": "4d139f85-f74e-45fd-873f-2b8baf62f02a",
   "metadata": {},
   "outputs": [],
   "source": []
  }
 ],
 "metadata": {
  "kernelspec": {
   "display_name": "Python 3-12 (COMM4190)",
   "language": "python",
   "name": "python3-12_comm4190"
  },
  "language_info": {
   "codemirror_mode": {
    "name": "ipython",
    "version": 3
   },
   "file_extension": ".py",
   "mimetype": "text/x-python",
   "name": "python",
   "nbconvert_exporter": "python",
   "pygments_lexer": "ipython3",
   "version": "3.12.8"
  }
 },
 "nbformat": 4,
 "nbformat_minor": 5
}
