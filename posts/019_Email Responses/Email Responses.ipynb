{
 "cells": [
  {
   "cell_type": "raw",
   "id": "410bef2f-1ee2-4dfc-a0f8-9d70a92e1645",
   "metadata": {},
   "source": [
    "---\n",
    "title: \"Email Responses\"\n",
    "description: \"Looking at Gender in Responses\" \n",
    "author: \"Emma\"\n",
    "date: \"5/11/2025\"\n",
    "categories:\n",
    "  - LLMs\n",
    "  - Prompting\n",
    "---"
   ]
  },
  {
   "cell_type": "markdown",
   "id": "a5cecd6a-7cbb-40f4-b34c-34109fea9a6a",
   "metadata": {},
   "source": [
    "## Introduction\n",
    "I am currently in COMM 3091, an internship seminar. In this course, alongside with our internship we talk not only about the internship but also workplace culture. Something we had discussed was asking for raises and we talked about wage discrepancies across genders. This topic inspired this blog post. I asked ChatGPT to help me ask my manager for a raise. Then I asked ChatGPT to ask my manager for a raise as a woman. "
   ]
  },
  {
   "cell_type": "markdown",
   "id": "de019e1c-5caf-47dc-b28b-e6f1d608f52e",
   "metadata": {},
   "source": [
    "## Response \n",
    "### USER\n",
    "Draft an email to my manager asking for a raise\n",
    "\n",
    "### ASSISTANT\n",
    "Subject: Request for Salary Review\n",
    "\n",
    "Hi [Manager's Name],\n",
    "\n",
    "I hope this message finds you well. I wanted to take a moment to express my gratitude for the opportunities and support I have received during my time at [Company Name]. I have enjoyed working under your leadership and have learned a lot from you and the team.\n",
    "\n",
    "I am writing to formally request a review of my current salary. Over the past [duration], I have taken on additional responsibilities and have successfully [mention notable achievements or contributions], which I believe have positively impacted our team and the company's objectives.\n",
    "\n",
    "Since joining the team, I have consistently aimed to exceed expectations and have worked towards enhancing my skills and contributing to our projects. I am committed to continuing this trajectory and providing even more value to our team and [Company Name] as a whole.\n",
    "\n",
    "In light of my accomplishments and my increased scope of work, I believe it is appropriate to discuss a salary adjustment that reflects my contributions and commitment. I have researched industry standards and feel that an increase in my compensation would be aligned with current market trends.\n",
    "\n",
    "I would appreciate the opportunity to discuss this at your earliest convenience. Please let me know a time that works for you to meet and further discuss my request.\n",
    "\n",
    "Thank you for considering my request. I am eager to continue contributing to our success and look forward to our conversation.\n",
    "\n",
    "Best regards,\n",
    "\n",
    "[Your Name]  \n",
    "[Your Position]\n",
    "\n",
    "### USER\n",
    "I am a woman Draft an email to my manager asking for a raise\n",
    "\n",
    "### ASSISTANT\n",
    "Subject: Request for Salary Review Discussion\n",
    "\n",
    "Hi [Manager's Name],\n",
    "\n",
    "I hope you're doing well. I've been reflecting on my time at [Company Name] and the various responsibilities I've embraced over the [duration], and I wanted to reach out to discuss my current compensation.\n",
    "\n",
    "During my tenure, I've been committed to contributing positively to our team's goals and the overall success of the company. I've taken on additional responsibilities and successfully [mention specific achievements or projects], which I believe have been beneficial to our objectives.\n",
    "\n",
    "I am passionate about my role and dedicated to further development and growth within our team. With the experience and skills I've gained, as well as the added responsibilities I've taken on, I feel it is appropriate to revisit my salary to ensure it aligns with both my contributions and industry benchmarks.\n",
    "\n",
    "I would appreciate the opportunity to discuss this further and explore the possibility of a raise. Please let me know when you might have time to meet and talk through this request.\n",
    "\n",
    "Thank you for your ongoing support and leadership. I'm looking forward to our conversation.\n",
    "\n",
    "Warm regards,\n",
    "\n",
    "[Your Name]  \n",
    "[Your Position]\n"
   ]
  },
  {
   "cell_type": "markdown",
   "id": "5f670ee8-8a74-4893-8588-83cc3705ae49",
   "metadata": {},
   "source": [
    "### Analysis \n",
    "\n",
    "The first email specifically thanks the manager for opportunities and support and highlights learning from both the manager and the team, creating a foundation of gratitude and appreciation, while the email tailored for women focuses more on reflecting on your tenure and contributions without explicitly mentioning learning from the manager. This was interesting to me when thinking about this as I feel for women to get raises you are constantly having to advocate your worth. \n",
    "\n",
    "In terms of evidence of research, the first email includes a reference to having researched industry standards, suggesting that your request is informed by external benchmarks, which adds a layer of credibility and preparedness; however, the second email only implies alignment with benchmarks and does not state that research was conducted, focusing instead on personal contributions as the basis for the request. This is interesting because I feel like as women asking for raises a problem that can be shown is women not knowing how much their job is worth with external benchmarks. \n",
    "\n",
    "Regarding tone and emphasis, the first email employs a more formal and structured approach, clearly outlining specific achievements and mentioning additional responsibilities taken on, whereas the second email adopts a slightly more personal tone, emphasizing passion, dedication, and desire for growth within the company, which can resonate on a more personal level. \n",
    "\n",
    "Both emails request a meeting to discuss the salary adjustment, but the first explicitly asks for a meeting \"at your earliest convenience,\" indicating a sense of urgency, while the second simply inquires about when it might be possible to meet, demonstrating flexibility. This is also a great point focusing on urgency and the pacificity and lack of force women can have when asking for raises. \n",
    "\n"
   ]
  }
 ],
 "metadata": {
  "kernelspec": {
   "display_name": "Python 3-12 (COMM4190)",
   "language": "python",
   "name": "python3-12_comm4190"
  },
  "language_info": {
   "codemirror_mode": {
    "name": "ipython",
    "version": 3
   },
   "file_extension": ".py",
   "mimetype": "text/x-python",
   "name": "python",
   "nbconvert_exporter": "python",
   "pygments_lexer": "ipython3",
   "version": "3.12.8"
  }
 },
 "nbformat": 4,
 "nbformat_minor": 5
}
