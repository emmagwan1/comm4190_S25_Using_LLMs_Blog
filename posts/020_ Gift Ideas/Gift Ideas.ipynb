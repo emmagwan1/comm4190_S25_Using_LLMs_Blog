{
 "cells": [
  {
   "cell_type": "raw",
   "id": "e714ffd7-26f2-4dc7-9f42-b9446a5ad9cb",
   "metadata": {},
   "source": [
    "---\n",
    "title: \"Gift Ideas\"\n",
    "description: \"Finding the Perfect Mothers Day Gift\" \n",
    "author: \"Emma\"\n",
    "date: \"5/11/2025\"\n",
    "categories:\n",
    "  - LLMs\n",
    "  - ChatGPT\n",
    "  - Anthropic\n",
    "---"
   ]
  },
  {
   "cell_type": "markdown",
   "id": "36b944e1-526e-49a3-8ffd-8da12fc22b99",
   "metadata": {},
   "source": [
    "## Introduction\n",
    "Today is Mother's Day! Unfortunately, I will not be home but I am still in a groupchat with my siblings to decide a gift. This brought me to my next blog post. I asked both ChatGPT and Anthropic to give me 5 mother's day gift ideas. "
   ]
  },
  {
   "cell_type": "markdown",
   "id": "5d5c298f-4bb0-4acf-b6ec-c37041adb460",
   "metadata": {},
   "source": [
    "## ChatGPT Response\n",
    "Sure! Here are five Mother’s Day gift ideas that cater to a variety of interests and preferences:\n",
    "\n",
    "1. **Personalized Jewelry**: Consider a necklace or bracelet with her initials, birthstone, or the names of her children. Personalized jewelry adds a sentimental touch and serves as a meaningful keepsake.\n",
    "\n",
    "2. **Spa Day or Wellness Package**: Give the gift of relaxation with a spa day or a wellness package that includes massages, facials, and other pampering treatments. Alternatively, you could create a DIY spa basket with bath bombs, scented candles, and luxurious skincare products.\n",
    "\n",
    "3. **Subscription Box**: Choose a subscription box that aligns with her interests, whether it’s gourmet food, wine, books, or flowers. This gift provides a delightful surprise each month and shows you’ve considered her unique tastes.\n",
    "\n",
    "4. **Cooking Class or Culinary Experience**: For moms who love cooking or trying new foods, consider gifting a cooking class or a culinary experience, such as a wine tasting or gourmet dinner at a local restaurant.\n",
    "\n",
    "5. **Customized Photo Book or Frame**: Create a photo book or select a beautiful frame with cherished family memories. This personalized gift allows her to display or flip through fond memories whenever she desires. \n",
    "\n",
    "These gifts offer personalization and thoughtfulness, ensuring a memorable Mother’s Day celebration."
   ]
  },
  {
   "cell_type": "markdown",
   "id": "5c8cc5a9-38fc-4aa7-8327-e943502e23b4",
   "metadata": {},
   "source": [
    "## Anthropic Response \n",
    "Here are 5 thoughtful Mother's Day gift ideas:\n",
    "\n",
    "1. **Personalized Photo Gift**\n",
    "- Custom photo album or photo book\n",
    "- Canvas print of a favorite family photo\n",
    "- Personalized photo blanket\n",
    "- Custom jewelry with children's names/birthstones\n",
    "\n",
    "2. **Spa & Relaxation Package**\n",
    "- Professional massage gift certificate\n",
    "- High-quality bath products\n",
    "- Scented candles\n",
    "- Plush robe and slippers\n",
    "- At-home spa day kit\n",
    "\n",
    "3. **Custom Gift Basket**\n",
    "- Her favorite snacks and treats\n",
    "- Premium coffee or tea\n",
    "- Wine or champagne\n",
    "- Luxury skincare products\n",
    "- Handwritten note\n",
    "- Fresh flowers\n",
    "\n",
    "4. **Experience Gifts**\n",
    "- Cooking class\n",
    "- Wine tasting event\n",
    "- Concert tickets\n",
    "- Mother-child activity (painting class, afternoon tea)\n",
    "- Restaurant gift card to her favorite place\n",
    "\n",
    "5. **Handmade/Sentimental Gifts**\n",
    "- Handwritten recipe book of family favorites\n",
    "- Scrapbook of memories\n",
    "- Hand-painted pottery or crafts\n",
    "- Letter expressing love and appreciation\n",
    "- Children's artwork professionally framed\n",
    "\n",
    "Remember, sometimes the most meaningful gifts are those that show thought and effort rather than just monetary value."
   ]
  },
  {
   "cell_type": "markdown",
   "id": "e6140d11-ca01-4a80-a8a7-a0c917936597",
   "metadata": {},
   "source": [
    "## Analysis\n",
    "The first thing that I noticed was the format. The Anthropic response esentially gives 25 responses. With 5 ideas being in 5 different subheadings, therefore all of the gifts from the ChatGPT list were accounted for with Anthropic. I also like how ChatGPT give you short instructions on how to create the gifts. Both responses give gifts that children at any age can do from arts and crafts to wine tasting. I also appreciated Anthropic's last sentence that even though it gave so many ideas reminding the user not to overly stress about the \"perfect\" mother's day gift. In conclusion I am a fan of both of these lists as I feel they are both comprehensive of price points and age ranges. "
   ]
  }
 ],
 "metadata": {
  "kernelspec": {
   "display_name": "Python 3-12 (COMM4190)",
   "language": "python",
   "name": "python3-12_comm4190"
  },
  "language_info": {
   "codemirror_mode": {
    "name": "ipython",
    "version": 3
   },
   "file_extension": ".py",
   "mimetype": "text/x-python",
   "name": "python",
   "nbconvert_exporter": "python",
   "pygments_lexer": "ipython3",
   "version": "3.12.8"
  }
 },
 "nbformat": 4,
 "nbformat_minor": 5
}
