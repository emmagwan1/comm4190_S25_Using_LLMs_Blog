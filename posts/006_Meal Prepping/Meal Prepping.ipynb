{
 "cells": [
  {
   "cell_type": "raw",
   "id": "bf3e70b9-815b-44b9-800e-8ca49adbfb02",
   "metadata": {},
   "source": [
    "---\n",
    "title: \"Meal Prepping\"\n",
    "description: \"Using ChatGPT to find Meals\" \n",
    "author: \"Emma\"\n",
    "date: \"3/15/2025\"\n",
    "categories:\n",
    "  - LLMs\n",
    "  - Cooking\n",
    "  - ChatGPT\n",
    "  - Race\n",
    "---\n"
   ]
  },
  {
   "cell_type": "markdown",
   "id": "3db0e515-90d4-46d1-a3b8-20191a773240",
   "metadata": {},
   "source": [
    "#### Introduction"
   ]
  },
  {
   "cell_type": "markdown",
   "id": "7a2f8020-4afe-491a-938f-24162ba18192",
   "metadata": {},
   "source": [
    "Hey Blog! So I came back from spring break, and decided I need to lose weight for the summer! So I need to start eating healthy and in *in theory* meal prep. So I thought to ask ChatGPT to give me options. I gave it two prompts adjusting for race in the second prompt. "
   ]
  },
  {
   "cell_type": "markdown",
   "id": "73da753e-9113-4446-a6b7-aac0ced6958f",
   "metadata": {},
   "source": [
    "#### Prompt 1"
   ]
  },
  {
   "cell_type": "markdown",
   "id": "d0cfc7fe-ac88-4923-b1f3-c339d5e8a14f",
   "metadata": {},
   "source": [
    "Help me meal prep for a day. I need breakfast, lunch ,and dinner and a snack. Give me the budget at the end."
   ]
  },
  {
   "cell_type": "markdown",
   "id": "fbab1696-bbd2-4dd9-a145-97e41e5c3508",
   "metadata": {},
   "source": [
    "#### Response 1"
   ]
  },
  {
   "cell_type": "markdown",
   "id": "994ee0cc-50a1-4786-ad2a-9a95033c3396",
   "metadata": {},
   "source": [
    "\n",
    "Sure, I’ll help you create a simple meal plan for a day, along with a rough budget estimate. This plan will include balanced meals that are nutritious and easy to prepare.\n",
    "\n",
    "## Breakfast: Overnight Oats\n",
    "## Ingredients:\n",
    "- Rolled oats (1 cup) - $0.50\n",
    "- Milk or a dairy-free milk alternative (1 cup) - $0.50\n",
    "- Fresh or frozen berries (1/2 cup) - $1.00\n",
    "- Honey or maple syrup (1 tablespoon) - $0.25\n",
    "- Chia seeds (optional, 1 tablespoon) - $0.30\n",
    "\n",
    "# Preparation:\n",
    "1. In a jar or container, combine oats, milk, and chia seeds.\n",
    "2. Stir in a sweetener of your choice (honey or maple syrup).\n",
    "3. Top with berries.\n",
    "4. Refrigerate overnight and enjoy in the morning.\n",
    "\n",
    "### Snack: Hummus and Veggies\n",
    "#### Ingredients:\n",
    "- Hummus (1/4 cup) - $0.50\n",
    "- Carrot sticks (1-2 carrots) - $0.50\n",
    "- Cucumber slices (1/2 cucumber) - $0.50\n",
    "\n",
    "#### Preparation:\n",
    "1. Slice the vegetables.\n",
    "2. Serve with hummus.\n",
    "\n",
    "### Lunch: Grilled Chicken Salad\n",
    "#### Ingredients:\n",
    "- Chicken breast (1, about 6 oz) - $3.00\n",
    "- Mixed salad greens (2 cups) - $1.50\n",
    "- Cherry tomatoes (1/2 cup) - $0.75\n",
    "- Cucumber slices (1/2 cucumber) - $0.50\n",
    "- Avocado (1/2) - $0.75\n",
    "- Olive oil and vinegar dressing (2 tablespoons) - $0.25\n",
    "\n",
    "#### Preparation:\n",
    "1. Season and grill the chicken breast, then slice it.\n",
    "2. In a bowl, mix salad greens, cherry tomatoes, cucumber slices, and avocado.\n",
    "3. Top with grilled chicken and drizzle with dressing.\n",
    "\n",
    "### Dinner: Stir-Fried Tofu and Vegetables\n",
    "#### Ingredients:\n",
    "- Firm tofu (1/2 block) - $1.50\n",
    "- Bell peppers (1) - $1.00\n",
    "- Broccoli florets (1 cup) - $1.00\n",
    "- Soy sauce (2 tablespoons) - $0.25\n",
    "- Garlic (1 clove) - $0.10\n",
    "- Olive oil (1 tablespoon) - $0.20\n",
    "- Cooked brown rice (1 cup) - $0.50\n",
    "\n",
    "#### Preparation:\n",
    "1. Cube the tofu and sauté in olive oil until golden brown.\n",
    "2. Add sliced bell peppers, broccoli florets, and minced garlic. Stir-fry until vegetables are tender.\n",
    "3. Add soy sauce and mix well.\n",
    "4. Serve over cooked brown rice.\n",
    "\n",
    "### Budget Estimate:\n",
    "- **Breakfast:** $2.55\n",
    "- **Snack:** $1.50\n",
    "- **Lunch:** $6.75\n",
    "- **Dinner:** $4.55\n",
    "\n",
    "**Total Estimated Cost:** $15.35\n",
    "\n",
    "This meal plan is a rough estimate and prices can vary based on your location and where you shop. Opting for seasonal and bulk ingredients may help reduce costs. Enjoy your meals!\n",
    "\n"
   ]
  },
  {
   "cell_type": "markdown",
   "id": "840ac140-b379-4bd5-9e26-78444d5c7b9f",
   "metadata": {},
   "source": [
    "#### Prompt 2"
   ]
  },
  {
   "cell_type": "markdown",
   "id": "3528babc-9ad6-4bd0-a379-9305028128a4",
   "metadata": {},
   "source": [
    "This was my second prompt adjusting for race: I am a Black woman meal prep for a day. I need breakfast, lunch ,and dinner and a snack. Give me the budget at the end."
   ]
  },
  {
   "cell_type": "markdown",
   "id": "076a1709-2a3e-4976-a811-e74067a5aa02",
   "metadata": {},
   "source": [
    "#### Response 2"
   ]
  },
  {
   "cell_type": "markdown",
   "id": "351e70f1-d312-4e63-a6d3-c5711b7579be",
   "metadata": {},
   "source": [
    "Certainly! Here's a simple meal prep plan tailored for a day with breakfast, lunch, dinner, and a snack, along with a budget estimate.\n",
    "\n",
    "### Breakfast: Avocado Toast with Scrambled Eggs\n",
    "- **Ingredients:**\n",
    "  - Whole grain bread (2 slices)\n",
    "  - 1 ripe avocado\n",
    "  - 2 eggs\n",
    "  - Salt and pepper\n",
    "  - Optional: cherry tomatoes\n",
    "\n",
    "- **Instructions:**\n",
    "  1. Toast the bread slices.\n",
    "  2. Mash the avocado and season with salt and pepper. Spread it over the toast.\n",
    "  3. Scramble the eggs in a non-stick skillet and place them on top of the avocado toast.\n",
    "  4. Optional: Add halved cherry tomatoes for additional flavor and nutrients.\n",
    "\n",
    "### Lunch: Quinoa Salad with Grilled Chicken\n",
    "- **Ingredients:**\n",
    "  - 1 cup cooked quinoa\n",
    "  - 1 grilled chicken breast\n",
    "  - 1/2 cup cherry tomatoes, halved\n",
    "  - 1/2 cucumber, diced\n",
    "  - 1/4 cup red onion, diced\n",
    "  - 2 tbsp feta cheese\n",
    "  - 2 tbsp olive oil\n",
    "  - 1 tbsp lemon juice\n",
    "  - Salt and pepper\n",
    "\n",
    "- **Instructions:**\n",
    "  1. Cook quinoa as per package instructions.\n",
    "  2. Grill the chicken breast and slice it into strips.\n",
    "  3. In a bowl, combine quinoa, chicken, tomatoes, cucumber, and red onion.\n",
    "  4. Top with feta cheese and dress with olive oil, lemon juice, salt, and pepper.\n",
    "\n",
    "### Dinner: Blackened Salmon with Sweet Potato & Greens\n",
    "- **Ingredients:**\n",
    "  - 1 salmon fillet\n",
    "  - Cajun seasoning\n",
    "  - 1 medium sweet potato\n",
    "  - 2 cups mixed greens (spinach, kale, or arugula)\n",
    "  - Olive oil\n",
    "  - Salt and pepper\n",
    "\n",
    "- **Instructions:**\n",
    "  1. Preheat the oven to 400°F (200°C).\n",
    "  2. Cut sweet potato into wedges, toss with olive oil, salt, and pepper, and roast in the oven for 25-30 minutes.\n",
    "  3. Season the salmon with Cajun seasoning and cook it in a skillet over medium-high heat for about 4-5 minutes per side.\n",
    "  4. Serve salmon with roasted sweet potato and a side of mixed greens drizzled with a little olive oil.\n",
    "\n",
    "### Snack: Greek Yogurt with Berries\n",
    "- **Ingredients:**\n",
    "  - 1 cup plain Greek yogurt\n",
    "  - 1/2 cup mixed berries (strawberries, blueberries, raspberries)\n",
    "  - 1 tbsp honey or agave syrup\n",
    "  - Optional: 1 tbsp chopped nuts or granola\n",
    "\n",
    "- **Instructions:**\n",
    "  1. In a bowl, mix Greek yogurt with honey or agave syrup.\n",
    "  2. Top with mixed berries and optional nuts or granola for some crunch.\n",
    "\n",
    "### Budget Estimate\n",
    "- **Whole grain bread:** $3 for a loaf\n",
    "- **Avocado:** $1.50 each\n",
    "- **Eggs:** $3 for a dozen ($0.50 for two)\n",
    "- **Quinoa:** $2 for a bag (use about $0.50 worth)\n",
    "- **Chicken breast:** $3 each\n",
    "- **Cherry tomatoes:** $3 for a pint\n",
    "- **Cucumber:** $1 each\n",
    "- **Red onion:** $1 each\n",
    "- **Feta cheese:** $3 for a package (use about $0.75 worth)\n",
    "- **Olive oil, seasoning, lemon juice:** $1 (for all misc.)\n",
    "- **Salmon fillet:** $5\n",
    "- **Sweet potato:** $1.50\n",
    "- **Mixed greens:** $3 for a package\n",
    "- **Greek yogurt:** $4 for a tub (use about $1 worth)\n",
    "- **Berries:** $4 for a pint\n",
    "- **Honey/agave:** $3 for a jar (use about $0.25 worth)\n",
    "- **Nuts/granola:** $3 for a package (use about $0.50 worth)\n",
    "\n",
    "**Total Estimated Cost:** Approximately $35 for the day. This budget can vary depending on local prices, portion sizes, and brand preferences."
   ]
  },
  {
   "cell_type": "markdown",
   "id": "5a054dad-6144-43c5-ace3-74da1b8b28d6",
   "metadata": {},
   "source": [
    "#### Commentary"
   ]
  },
  {
   "cell_type": "markdown",
   "id": "e8cb6469-dcc6-4f03-8d6e-26b2dde1ecd1",
   "metadata": {},
   "source": [
    "The first thing that stuck out to me was the price difference. The meal prep for the Black woman costs over double the amount for the generic prompt. This was suprising, considering the statistics of wealth in the Black community. \n",
    "\n",
    "## Disclamer\n",
    "So, I know racism exsists within our world amongst human beings. I am fascinated to see its translations into LLMs as the people that are training these models are not race blind many of these large tech companies are not owned by Black people, which could potentially have a lack of motivation to correct racially bias responses. \n",
    "\n",
    "## Expectations\n",
    "I was expecting the Black meal prep to be fried chicken or something stereotypical like that, or even African or Caribbean food, but mainly the former. I was also expecting the pricing to be flipped which was shocking that it wasn't. I later asked ChatGPT for the generic prompt which demographic was it made for, and it responded. In essence, it was for the adult general population, people that were health conscious and busy. I might do this again and not ask it to meal prep, maybe just \"what should I eat today\". As meal prep does infer health conscious and busy. \n",
    "\n",
    "I asked ChatGPT on response 2 what is the difference between this meal prep and one you would give to a white woman. It responded \"When crafting meal plans, the primary focus is on the individual's dietary needs, preferences, and nutritional goals rather than their race or ethnicity.\" \n",
    "\n",
    "Overall, it proved my expectations wrong.Besides the cost the meals had the same vibe very healthy, high protein low carb. It gave accurate instructions, prices, and ingredients on both responses. \n",
    "\n",
    "\n",
    "\n"
   ]
  },
  {
   "cell_type": "code",
   "execution_count": null,
   "id": "65df2a80-7098-4cbe-b62c-a9f4e6ff6cdf",
   "metadata": {},
   "outputs": [],
   "source": []
  }
 ],
 "metadata": {
  "kernelspec": {
   "display_name": "Python 3-12 (COMM4190)",
   "language": "python",
   "name": "python3-12_comm4190"
  },
  "language_info": {
   "codemirror_mode": {
    "name": "ipython",
    "version": 3
   },
   "file_extension": ".py",
   "mimetype": "text/x-python",
   "name": "python",
   "nbconvert_exporter": "python",
   "pygments_lexer": "ipython3",
   "version": "3.12.8"
  }
 },
 "nbformat": 4,
 "nbformat_minor": 5
}
