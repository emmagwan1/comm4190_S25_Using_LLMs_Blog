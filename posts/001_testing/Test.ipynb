{
 "cells": [
  {
   "cell_type": "raw",
   "id": "43ef517f-866b-42d9-9bde-706814b4a8c0",
   "metadata": {},
   "source": [
    "---\n",
    "title: \"Emma's Test\"\n",
    "description: \"Testing Blogging\" \n",
    "author: \"Emma\"\n",
    "date: \"2/1/2025\"\n",
    "categories:\n",
    "  - LLMs\n",
    "  - Learning\n",
    "---"
   ]
  },
  {
   "cell_type": "markdown",
   "id": "d7f75000-2356-43d8-bfb1-c564530cdf9e",
   "metadata": {},
   "source": [
    "# Test Post\n",
    "This is my first post, but I want another"
   ]
  },
  {
   "cell_type": "markdown",
   "id": "ce21e4f3-f668-4011-9925-fb4587a80165",
   "metadata": {},
   "source": [
    "![](Test_image.png)"
   ]
  },
  {
   "cell_type": "code",
   "execution_count": null,
   "id": "93b43a7c-9b8e-45ca-9b9a-75efa5624d0c",
   "metadata": {},
   "outputs": [],
   "source": []
  }
 ],
 "metadata": {
  "kernelspec": {
   "display_name": "Python 3-12 (COMM4190)",
   "language": "python",
   "name": "python3-12_comm4190"
  },
  "language_info": {
   "codemirror_mode": {
    "name": "ipython",
    "version": 3
   },
   "file_extension": ".py",
   "mimetype": "text/x-python",
   "name": "python",
   "nbconvert_exporter": "python",
   "pygments_lexer": "ipython3",
   "version": "3.12.8"
  }
 },
 "nbformat": 4,
 "nbformat_minor": 5
}
