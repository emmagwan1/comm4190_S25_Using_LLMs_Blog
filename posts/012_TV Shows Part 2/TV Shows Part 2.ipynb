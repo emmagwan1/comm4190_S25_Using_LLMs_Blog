{
 "cells": [
  {
   "cell_type": "raw",
   "id": "fa667992-40c3-4650-98e3-50ab54ab4bf0",
   "metadata": {},
   "source": [
    "---\n",
    "title: \"TV Shows Part 2\"\n",
    "description: \"Asking for TV show reccomendations\" \n",
    "author: \"Emma\"\n",
    "date: \"4/14/2025\"\n",
    "categories:\n",
    "  - LLMs\n",
    "  - TV\n",
    "  - Race\n",
    "---"
   ]
  },
  {
   "cell_type": "markdown",
   "id": "2f8acf7c-b635-4472-b367-b56c94cede76",
   "metadata": {},
   "source": [
    "### Introduction\n",
    "In the first part of the TV Show blog post I had asked both Anthropic/Claude and ChatGPT to give me 10 TV show reccommendations. 90% of the television recommendations featured a predominantly white cast and centered white Eurocentric storylines. I then wanted the LLMs to give very tailored reccomendations for a specific person, so I gave it a more in-depth prompt. "
   ]
  },
  {
   "cell_type": "markdown",
   "id": "f365d8e2-6c12-490d-969a-430c1c99d182",
   "metadata": {},
   "source": [
    "### The Prompt"
   ]
  }
 ],
 "metadata": {
  "citation-manager": {
   "items": {}
  },
  "kernelspec": {
   "display_name": "Python 3-12 (COMM4190)",
   "language": "python",
   "name": "python3-12_comm4190"
  },
  "language_info": {
   "codemirror_mode": {
    "name": "ipython",
    "version": 3
   },
   "file_extension": ".py",
   "mimetype": "text/x-python",
   "name": "python",
   "nbconvert_exporter": "python",
   "pygments_lexer": "ipython3",
   "version": "3.12.8"
  }
 },
 "nbformat": 4,
 "nbformat_minor": 5
}
