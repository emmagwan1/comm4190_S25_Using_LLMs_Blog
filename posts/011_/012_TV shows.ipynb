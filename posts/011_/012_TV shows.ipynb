{
 "cells": [
  {
   "cell_type": "raw",
   "id": "eb4eb856-aace-4446-941b-310f4edfdd96",
   "metadata": {},
   "source": [
    "---\n",
    "title: \"Television Shows with Anthropic and ChatGPT\"\n",
    "description: \"What recommendations do each LLM give for TV shows\" \n",
    "author: \"Emma\"\n",
    "date: \"4/14/2025\"\n",
    "categories:\n",
    "  - LLMs\n",
    "  - Television Shows\n",
    "  - Race\n",
    "---\n"
   ]
  },
  {
   "cell_type": "markdown",
   "id": "94c96a61-ee3d-4c47-815c-597eb252e811",
   "metadata": {},
   "source": [
    "### Introduction\n",
    "I don't know about you but after a long semester I love to spend a day binge watching a good TV shows, but I am *always* looking for recommendations. I had this idea to ask ChatGPT and Anthropic for some recommendations.  "
   ]
  },
  {
   "cell_type": "markdown",
   "id": "648d20a6-d679-4572-9b55-ff3ba6e0237c",
   "metadata": {},
   "source": [
    "### The Prompt\n",
    "The prompt I entered into both ChatGPT and Anthropic were \"give me 10 tv recommendations\" "
   ]
  },
  {
   "cell_type": "markdown",
   "id": "70098749-1c1c-49e9-85ce-53e3ce9df4a8",
   "metadata": {},
   "source": [
    "### Anthropic Response\n",
    "Here are 10 highly-rated TV show recommendations across different genres:\n",
    "\n",
    "1. Breaking Bad - Crime drama about a chemistry teacher turned meth kingpin\n",
    "2. The Wire - Complex crime drama exploring Baltimore's law enforcement and criminal world\n",
    "3. Stranger Things - Supernatural sci-fi thriller with 80s nostalgia\n",
    "4. The Crown - Historical drama about the British Royal Family\n",
    "5. Ted Lasso - Heartwarming comedy about an American football coach managing a British soccer team\n",
    "6. The Good Place - Philosophical comedy about the afterlife\n",
    "7. Chernobyl - Historical drama mini-series about the nuclear disaster\n",
    "8. Dark - Complex German sci-fi thriller involving time travel\n",
    "9. Succession - Drama about a dysfunctional media empire family\n",
    "10. The Mandalorian - Star Wars space western following a bounty hunter\n",
    "\n",
    "These shows vary in genre and tone, so you can choose based on your preferences. All have received critical acclaim and have strong fan followings."
   ]
  },
  {
   "cell_type": "markdown",
   "id": "67eb5dba-4365-4c0a-a5d1-b70320912736",
   "metadata": {},
   "source": [
    "### ChatGPT Response"
   ]
  },
  {
   "cell_type": "markdown",
   "id": "40c2cfa3-a0e0-44b7-b241-20168229ce57",
   "metadata": {},
   "source": [
    "Sure! Here are ten diverse TV show recommendations spanning various genres:\n",
    "\n",
    "1. Breaking Bad - A high school chemistry teacher turned methamphetamine producer navigates the dangers of the drug trade.\n",
    "\n",
    "2. Game of Thrones - Epic fantasy series based on George R.R. Martin's novels, filled with political intrigue, battles, and dragons.\n",
    "\n",
    "3. Stranger Things** - A group of kids in the 1980s encounters supernatural forces and government conspiracies in their small town.\n",
    "\n",
    "4. The Crown** - A historical drama that chronicles the reign of Queen Elizabeth II and the events that shaped the second half of the 20th century.\n",
    "\n",
    "5. The Mandalorian** - Set in the Star Wars universe, this series follows a lone bounty hunter in the outer reaches of the galaxy.\n",
    "\n",
    "6. **Fleabag** - A dark comedy about a dry-witted, angry, and confused young woman living in London and dealing with past tragedies.\n",
    "\n",
    "7. **The Office (U.S.)** - A mockumentary-style comedy depicting the everyday lives of office employees at the Dunder Mifflin Paper Company.\n",
    "\n",
    "8. **Sherlock** - A modern update to Sir Arthur Conan Doyle's classic tales, featuring a brilliant but eccentric detective in contemporary London.\n",
    "\n",
    "9. **The Queen’s Gambit** - Follows the life of an orphaned chess prodigy, Beth Harmon, during her quest to become the world's greatest chess player.\n",
    "\n",
    "10. **Succession** - A drama about a power struggle within a family-run media conglomerate, with darkly comedic undertones.\n",
    "\n",
    "These shows offer a mix of drama, humor, action, and mystery, catering to a wide range of tastes."
   ]
  },
  {
   "cell_type": "markdown",
   "id": "137eaaba-5022-492a-8ba0-87d703f18bd1",
   "metadata": {},
   "source": [
    "### Analysis \n",
    "After looking at both responses I found a few key observations. I had never watched any of the shows given, but a few of them I have heard my friends about. Both lists have 5 shared films. Those were Breaking Bad, Stranger Things, The Crown, The Mandalorian, and Succession. The first 3 I have heard about. All of the shows on this list are critically acclaimed. I appreciated how both LLMs gave shows from a large range of genres. This is important because I had not given either LLM further context so they didn't assume a certain genre that I would like. Each list has drama, sci-fi, comedy, and historical content.\n",
    "\n",
    "The one thing that truly stood out to me was the lack of representation on the shows both lists were skewed to white leads and eurocentric representation. I asked ChatGPT to give me a breakdown of apparent racial diversity in the shows. Below are the generated charts showing the lack of racial diversity across the lists. Anthropic did much better in including racial diversity. This is apparent in the addition of the _Wire_.  \n",
    "\n"
   ]
  },
  {
   "cell_type": "markdown",
   "id": "c6866be9-c846-46d7-ae68-3f9992f68b0f",
   "metadata": {},
   "source": [
    "### Racial Representation Analysis Across Both Lists"
   ]
  },
  {
   "cell_type": "markdown",
   "id": "2c286c0b-d315-42a1-add2-ff844f803789",
   "metadata": {},
   "source": [
    "Between **List 1** and **List 2**, **List 2** is **better with racial representation**, though only slightly — and mostly because of **one standout show: *The Wire***.\n",
    "\n",
    "Here’s a breakdown of the comparison:\n",
    "\n",
    "---\n",
    "\n",
    "### 📺 **ChatGPT**:\n",
    "1. **Breaking Bad** – ❌ (Latinx characters often stereotyped)\n",
    "2. **Game of Thrones** – ❌ (People of color exoticized or enslaved)\n",
    "3. **Stranger Things** – ⚠️ (1 Black character, shallow arc)\n",
    "4. **The Crown** – ❌ (Race rarely addressed)\n",
    "5. **The Mandalorian** – ✅ (Diverse casting, race subtle)\n",
    "6. **Fleabag** – ❌ (White-centered)\n",
    "7. **The Office (U.S.)** – ⚠️ (Some diversity, often played for laughs)\n",
    "8. **Sherlock** – ❌ (Very white cast)\n",
    "9. **The Queen’s Gambit** – ⚠️ (1 Black character late in story)\n",
    "10. **Succession** – ❌ (All-white main cast)\n",
    "\n",
    "→ **1 clear win**, **3 surface-level**, **6 misses**\n",
    "\n",
    "---\n",
    "\n",
    "### 📺 **Anthropic**:\n",
    "1. **Breaking Bad** – ❌\n",
    "2. **The Wire** – ✅✅✅ (Gold standard for racial realism in TV)\n",
    "3. **Stranger Things** – ⚠️\n",
    "4. **The Crown** – ❌\n",
    "5. **Ted Lasso** – ✅ (Gentle but present representation)\n",
    "6. **The Good Place** – ✅ (Multiracial core cast, normalized)\n",
    "7. **Chernobyl** – ❌\n",
    "8. **Dark** – ❌\n",
    "9. **Succession** – ❌\n",
    "10. **The Mandalorian** – ✅\n",
    "\n",
    "→ **4 strong**, **1 surface-level**, **5 misses**\n",
    "\n",
    "---\n",
    "\n",
    "### 🧮 Final Count:\n",
    "\n",
    "|                    | ✅ Strong | ⚠️ Meh | ❌ Lacking |\n",
    "|--------------------|----------|--------|------------|\n",
    "| **List 1**         | 1        | 3      | 6          |\n",
    "| **List 2**         | 4        | 1      | 5          |\n",
    "\n",
    "---\n",
    "\n",
    "### ✅ Conclusion:\n",
    "**List 2** is more intentional and well-rounded with racial representation — **especially due to *The Wire*, *The Good Place*, and *Ted Lasso***, which *normalize* racial diversity without being exploitative or stereotypical.\n",
    "\n",
    "**List 1**, while more “pop culture iconic,” generally centers white narratives and lacks thoughtful inclusion of race and identity.\n",
    "\n",
    "Want a reworked list that keeps the strong storytelling but improves racial inclusion and representation across the board?"
   ]
  }
 ],
 "metadata": {
  "citation-manager": {
   "items": {}
  },
  "kernelspec": {
   "display_name": "Python 3-12 (COMM4190)",
   "language": "python",
   "name": "python3-12_comm4190"
  },
  "language_info": {
   "codemirror_mode": {
    "name": "ipython",
    "version": 3
   },
   "file_extension": ".py",
   "mimetype": "text/x-python",
   "name": "python",
   "nbconvert_exporter": "python",
   "pygments_lexer": "ipython3",
   "version": "3.12.8"
  }
 },
 "nbformat": 4,
 "nbformat_minor": 5
}
