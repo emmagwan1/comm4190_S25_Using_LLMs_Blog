{
 "cells": [
  {
   "cell_type": "raw",
   "id": "73a76342-c464-4945-b4aa-aed3226d5fdd",
   "metadata": {},
   "source": [
    "---\n",
    "title: \"Hairstyles in ChatGPT\"\n",
    "description: \"Comparing hairstyles from different races\" \n",
    "author: \"Emma\"\n",
    "date: \"3/25/2025\"\n",
    "categories:\n",
    "  - LLMs\n",
    "  - ChatGPT\n",
    "  - Race\n",
    "---"
   ]
  },
  {
   "cell_type": "markdown",
   "id": "8cf0727f-8b24-45cb-9b77-0d19b301fefd",
   "metadata": {},
   "source": [
    "### Introduction"
   ]
  },
  {
   "cell_type": "markdown",
   "id": "8de9fef1-d075-46ff-8c0a-c65c31efad81",
   "metadata": {},
   "source": [
    "I am always switching up mu hair,but I never know what to do next. So this time I asked Chat GPT \"How should I wear my hair today for class.\" "
   ]
  },
  {
   "cell_type": "markdown",
   "id": "e800d8ab-19a4-48c4-97fe-ffc81c91e1a0",
   "metadata": {},
   "source": [
    "### Response"
   ]
  },
  {
   "cell_type": "markdown",
   "id": "e2d95b42-2359-44c7-b192-786663e00fb3",
   "metadata": {},
   "source": [
    "### USER\n",
    "How should I wear my hair today for class\n",
    "\n",
    "### ASSISTANT\n",
    "Choosing a hairstyle for class can depend on a few factors, such as your hair type, length, and personal style. Here are a few ideas you might consider:\n",
    "\n",
    "1. **Ponytail:** A classic choice that's quick and easy. You can opt for a high ponytail for a more polished look or a low pony for something more relaxed.\n",
    "\n",
    "2. **Messy Bun:** Perfect for when you're short on time but still want to look put-together. Pull your hair into a high or low bun and let a few strands fall naturally.\n",
    "\n",
    "3. **Braids:** A simple braid or French braid can keep your hair tidy and stylish. Depending on your preference, you can do a single braid or two.\n",
    "\n",
    "4. **Half-Up, Half-Down:** If you want to keep some hair out of your face but still wear it down, this is a great option. You can gather the top section into a small bun or ponytail.\n",
    "\n",
    "5. **Loose Waves or Curls:** If you have a bit more time, curling your hair or adding some waves can add a bit of flair to your everyday look.\n",
    "\n",
    "6. **Straight and Sleek:** If you prefer wearing your hair down and have naturally straight hair, you might just opt for a sleek look using a straightener for a polished finish.\n",
    "\n",
    "7. **Headband or Hair Accessories:** If you want to add a touch of style without much effort, consider using a headband, scarf, or hair clips to accentuate your look.\n",
    "\n",
    "When choosing a style, consider factors like the weather and your schedule for the day, which might influence how comfortable or practical certain styles are for you.\n",
    "\n",
    "### USER\n",
    "How should I wear my hair today for class as a white woman\n",
    "\n",
    "### ASSISTANT\n",
    "As a white woman, you have a variety of hairstyles to choose from, and the best choice can depend on your hair type, length, and the look you want to achieve. Here are some versatile options:\n",
    "\n",
    "1. **Low Bun:** Perfect for a neat and tidy look. You can make it sleek or keep it a little loose for a more casual vibe.\n",
    "\n",
    "2. **Side Part with Soft Waves:** Use a curling iron or styling tool to add gentle waves for a soft, romantic look.\n",
    "\n",
    "3. **Classic Braid:** A single braid down the back or a side braid is practical and stylish.\n",
    "\n",
    "4. **Top Knot or Messy Bun:** Quick and easy, great for keeping hair out of your face during class.\n",
    "\n",
    "5. **Half-Up Top Knot:** Combines the fun of a top knot with the freedom of wearing your hair down.\n",
    "\n",
    "6. **Pigtail Braids:** For a cute and youthful look, consider braiding your hair into pigtails.\n",
    "\n",
    "7. **Sleek Ponytail:** A mid or low ponytail can be both casual and chic. You can slick it back for a polished finish or keep it loose for a relaxed feel.\n",
    "\n",
    "8. **Headband Style:** Add a headband to loose hair or a half-up style for a simple touch of elegance.\n",
    "\n",
    "Remember, the best hairstyle is one that makes you feel confident and comfortable throughout your day!\n",
    "\n",
    "### USER\n",
    "How should I wear my hair today for class as a Black woman\n",
    "\n",
    "### ASSISTANT\n",
    "As a Black woman, you have a beautiful range of styling options that can work well for class, depending on your hair texture, length, and personal preference. Here are some ideas:\n",
    "\n",
    "1. **Afro or Afro Puff:** Celebrate your natural texture with a full afro or gather it into a high puff for a stylish look that keeps hair out of your face.\n",
    "\n",
    "2. **Braids or Twists:** Protective styles like box braids, twists, or cornrows are both versatile and low-maintenance, perfect for busy days.\n",
    "\n",
    "3. **Bantu Knots:** Create small buns across your head for a playful and unique style that also works well as a protective style.\n",
    "\n",
    "4. **Wash and Go:** Enhance your natural curls and coils by applying your favorite styling products and allowing your hair to air dry or using a diffuser.\n",
    "\n",
    "5. **Pineapple Updo:** Gather your hair loosely on top of your head to keep your curls intact and create a fun, casual look.\n",
    "\n",
    "6. **Head Wrap or Scarf:** Add a pop of color and style with a head wrap, which can be both fashionable and protective for your hair.\n",
    "\n",
    "7. **Low Bun or Chignon:** Smooth your hair back into a low bun for a classic and elegant look.\n",
    "\n",
    "8. **Half-Up Half-Down:** Show off your curls or braids by pulling the top half back, leaving the rest down for a balanced look.\n",
    "\n",
    "9. **Sleek Ponytail:** For a sleek and polished look, use gel or styling cream to smooth your hair into a low or high ponytail.\n",
    "\n",
    "Choose a style that fits your mood, the weather, and your schedule for the day. The most important thing is that you feel comfortable and confident in your choice!"
   ]
  }
 ],
 "metadata": {
  "citation-manager": {
   "items": {}
  },
  "kernelspec": {
   "display_name": "Python 3-12 (COMM4190)",
   "language": "python",
   "name": "python3-12_comm4190"
  },
  "language_info": {
   "codemirror_mode": {
    "name": "ipython",
    "version": 3
   },
   "file_extension": ".py",
   "mimetype": "text/x-python",
   "name": "python",
   "nbconvert_exporter": "python",
   "pygments_lexer": "ipython3",
   "version": "3.12.8"
  }
 },
 "nbformat": 4,
 "nbformat_minor": 5
}
