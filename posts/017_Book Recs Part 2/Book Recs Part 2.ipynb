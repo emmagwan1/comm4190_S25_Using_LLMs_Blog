{
 "cells": [
  {
   "cell_type": "raw",
   "id": "544e612d-956b-4581-a03f-481c44a42d10",
   "metadata": {},
   "source": [
    "---\n",
    "title: \"Book Reccomendations Part 2\"\n",
    "description: \"Specificing Book Reccomendations\" \n",
    "author: \"Emma\"\n",
    "date: \"5/10/2025\"\n",
    "categories:\n",
    "  - LLMs\n",
    "  - Anthropic \n",
    "  - ChatGPT\n",
    "---"
   ]
  },
  {
   "cell_type": "markdown",
   "id": "f54e3f80-a875-4cd7-912d-b459bb606dfe",
   "metadata": {},
   "source": [
    "### Introduction\n",
    "In my last blog post I wrote about book reccomendations and from ChatGPT and Anthropic. I got varying answers only with *Educated* being on both lists. I wanted to find books that fit more of my interests and what I want to read. I was also curious to see if there was a larger crossover between book lists if I specified my interests. "
   ]
  },
  {
   "cell_type": "markdown",
   "id": "c56baab3-3d20-46d6-83a3-0f960c718ba3",
   "metadata": {},
   "source": [
    "### Prompt\n",
    "I am a 22 year old Black woman about to graduate college I am looking for books that are uplifting and storytelling and representative. Give me 5 book reccomendations. "
   ]
  },
  {
   "cell_type": "markdown",
   "id": "5293d746-1be6-4473-b6e7-035b45393564",
   "metadata": {},
   "source": [
    "### ChatGPT Response \n",
    "Absolutely! Here are five book recommendations that celebrate diverse voices, offer uplifting stories, and feature strong Black female protagonists:\n",
    "\n",
    "1. **\"The Hate U Give\" by Angie Thomas**\n",
    "   - *Genre:* Young Adult Fiction\n",
    "   - *Summary:* This powerful novel follows Starr Carter, a 16-year-old who navigates the complexities of her community and identity after witnessing a police shooting of her unarmed best friend. It's an inspiring story that addresses important social issues while highlighting the power of finding one's voice.\n",
    "\n",
    "2. **\"Becoming\" by Michelle Obama**\n",
    "   - *Genre:* Memoir\n",
    "   - *Summary:* In this deeply personal memoir, former First Lady Michelle Obama shares her inspirational journey from growing up on the South Side of Chicago to becoming a powerful advocate and role model. Her story is a celebration of resilience and empowerment.\n",
    "\n",
    "3. **\"Homegoing\" by Yaa Gyasi**\n",
    "   - *Genre:* Historical Fiction\n",
    "   - *Summary:* This multi-generational epic traces the parallel paths of two half-sisters and their descendants in Ghana and the United States. Gyasi masterfully weaves together narratives across time, offering a rich tapestry of family, history, and identity.\n",
    "\n",
    "4. **\"An American Marriage\" by Tayari Jones**\n",
    "   - *Genre:* Fiction\n",
    "   - *Summary:* This compelling novel explores the complexities of love, marriage, and social justice through the story of Celestial and Roy, a young couple whose relationship is tested by a wrongful conviction. It’s a poignant reflection on resilience and hope.\n",
    "\n",
    "5. **\"Queenie\" by Candice Carty-Williams**\n",
    "   - *Genre:* Contemporary Fiction\n",
    "   - *Summary:* The book follows Queenie Jenkins, a 25-year-old Jamaican-British woman living in London, as she navigates life, love, and identity. The novel is both heartfelt and humorous, offering a relatable and inspiring portrayal of self-discovery and healing.\n",
    "\n",
    "These books provide powerful narratives that reflect diverse experiences and are sure to inspire and uplift. Happy reading!"
   ]
  },
  {
   "cell_type": "markdown",
   "id": "f62e35c6-ab90-43d9-9acc-b3cc7188aeb4",
   "metadata": {},
   "source": [
    "### Anthropic Response\n",
    "# 5 Book Recommendations for a 22-Year-Old Black Woman Graduating College\n",
    "\n",
    "## 1. \"Honey Girl\" by Morgan Rogers\n",
    "A perfect post-graduation read about Grace Porter, a driven young Black woman with a newly earned PhD who takes an uncharacteristic trip to Vegas and wakes up married to a woman she doesn't know. This coming-of-age story explores finding yourself when achievement doesn't bring the fulfillment you expected, featuring beautiful prose and a journey of self-discovery that resonates with the post-college transition.\n",
    "\n",
    "## 2. \"Such a Fun Age\" by Kiley Reid\n",
    "This compelling debut novel follows Emira Tucker, a young Black woman figuring out her post-college path while working as a babysitter. When she's accused of kidnapping her white employer's child at a grocery store, the incident sets off a chain of events that explores race, privilege, and finding your voice in early adulthood with nuance and authenticity.\n",
    "\n",
    "## 3. \"The Death of Vivek Oji\" by Akwaeke Emezi\n",
    "A beautifully written story about identity, family, and community by acclaimed Nigerian author Emezi. This novel explores themes of self-discovery and acceptance through the life of Vivek, a young person growing up in Nigeria. Despite dealing with loss, the book offers profound messages about the power of being truly seen and loved for who you are.\n",
    "\n",
    "## 4. \"Queenie\" by Candice Carty-Williams\n",
    "Follow Queenie Jenkins, a 25-year-old Jamaican British woman navigating life in London after a messy breakup. This novel brilliantly balances humor with thoughtful exploration of mental health, cultural identity, and finding your footing in your early twenties. It's been called \"the Black Bridget Jones\" but offers much deeper insights on race, worth, and healing.\n",
    "\n",
    "## 5. \"The Vanishing Half\" by Brit Bennett\n",
    "This multigenerational family saga follows twin sisters whose lives take dramatically different paths when one decides to live as a white woman. Bennett's storytelling is exquisite as she explores racial identity, sisterhood, and the lasting influence of the past on our present choices. The novel spans decades and features complex, memorable characters finding their way in the world.\n",
    "\n",
    "Each of these books features strong storytelling with protagonists you might relate to during this transitional period in your life. They celebrate resilience, identity, and the journey of becoming who you're meant to be—perfect companions as you complete this significant chapter of your education and begin the next."
   ]
  },
  {
   "cell_type": "markdown",
   "id": "37bddd7c-c35d-43bc-9760-34b2c768148f",
   "metadata": {},
   "source": [
    "### Analysis \n",
    "Both of these lists seem incredibly interesting. I am reading Michelle Obama's biography Becoming now and I have read The Hate U Give. Queenie by Candice Carty-Williams was featured in both lists. It is contemporary novel about a young Black woman navigating identity, mental health, and adulthood. \n",
    "\n",
    "Both book lists center Black female protagonists and highlight stories of resilience, identity, and transformation. The ChatGPT list celebrates a **broader range of voices and genres**—from young adult fiction (*The Hate U Give*) to sweeping historical epics (*Homegoing*) to iconic memoir (*Becoming*). It emphasizes stories with cultural weight, social justice themes, and emotional depth, offering powerful representations of Black womanhood across time, place, and circumstance. The characters in this list often face societal challenges but emerge empowered, making the collection feel affirming and universal.\n",
    "\n",
    "The Anthropic list is more **tailored to a specific life transition**: a 22-year-old Black woman graduating college. These books dig into the complexities of early adulthood—post-grad uncertainty, identity shifts, mental health, and self-discovery. Novels like *Honey Girl* and *Such a Fun Age* speak directly to the tension between external achievement and internal fulfillment, while *The Vanishing Half* and *The Death of Vivek Oji* offer more nuanced explorations of identity, family, and belonging. This list leans more contemporary, intimate, and personal—almost like a literary care package for someone navigating real-world adulthood for the first time.\n",
    "\n",
    "In short, the **first list is broader and intergenerational**, offering cultural and emotional richness, while the **second list is more intimate and transitional**, zeroing in on the post-college experience. Both lists are powerful in their own ways—and together, they offer a layered and inspiring portrait of Black womanhood across contexts and generations.\n"
   ]
  },
  {
   "cell_type": "code",
   "execution_count": null,
   "id": "850c8515-707e-4a67-a622-eac649802b01",
   "metadata": {},
   "outputs": [],
   "source": []
  }
 ],
 "metadata": {
  "kernelspec": {
   "display_name": "Python 3-12 (COMM4190)",
   "language": "python",
   "name": "python3-12_comm4190"
  },
  "language_info": {
   "codemirror_mode": {
    "name": "ipython",
    "version": 3
   },
   "file_extension": ".py",
   "mimetype": "text/x-python",
   "name": "python",
   "nbconvert_exporter": "python",
   "pygments_lexer": "ipython3",
   "version": "3.12.8"
  }
 },
 "nbformat": 4,
 "nbformat_minor": 5
}
