{
 "cells": [
  {
   "cell_type": "raw",
   "id": "c91b71d2-e3e0-43df-939b-ef79f5e5ff24",
   "metadata": {},
   "source": [
    "---\n",
    "title: \"Dealing with Rejection\"\n",
    "description: \"Testing emotional support of LLMs\" \n",
    "author: \"Emma\"\n",
    "date: \"2/24/2025\"\n",
    "categories:\n",
    "  - LLMs\n",
    "  - Emotions\n",
    "---"
   ]
  },
  {
   "cell_type": "markdown",
   "id": "be94e11e-1d1d-4f90-a547-b428a600c18f",
   "metadata": {},
   "source": [
    "I recently got rejected from my dream internship, and I was so devastated. I remember telling a lot of my friends and they all said the same thing. It's okay Emma it wasn't the right one for you. Pretty standard. Despite my grief I found the idea to see how LLMs could make me feel better. So I told both ChatGPT and Anthropic that \"I got rejected from my dream internship. I am so sad.\" Just to see what they would say, i didn't tell them to make me feel better. This is because if you were talking to a person that would be implied. "
   ]
  },
  {
   "cell_type": "markdown",
   "id": "f6607f5c-1733-4cf0-bbca-23a59b31cb5d",
   "metadata": {},
   "source": [
    "### Anthroptic Response"
   ]
  },
  {
   "cell_type": "markdown",
   "id": "7ba458e8-00dc-4b70-bdbc-dbaa742a8789",
   "metadata": {},
   "source": [
    "\n",
    "## ASSISTANT\n",
    "I'm sorry to hear that you got rejected from your dream internship. It's completely normal to feel sad and disappointed in this situation. Please remember that: \n",
    "\n",
    "1. A rejection doesn't define your worth or capabilities\n",
    "2. Many successful people have faced rejections before achieving their goals\n",
    "3. This is one opportunity, but there will be others\n",
    "4. You can use this experience to grow stronger and more resilient\n",
    "\n",
    "Would you like to talk about how you're feeling? Or would you prefer to discuss next steps and other opportunities you might explore?\n"
   ]
  },
  {
   "cell_type": "markdown",
   "id": "244d92a1-4d18-4b92-af80-991fe903e3ee",
   "metadata": {},
   "source": [
    "### Commentary"
   ]
  },
  {
   "cell_type": "markdown",
   "id": "2dc55f88-a0a2-4757-b969-a22d66cf5bd0",
   "metadata": {},
   "source": [
    "This response sounded very calculated. I don't know if this was because of the numbers, but this was very short and to the point. I appreciated how it started with \"I'm sorry to hear that\". That shows empathy. Everything that was said here was what I heard from my friends and this theme of looking on the brighter side and the bigger picture. One thing anthropic did that GPT didn't was ask if I wanted to talk about it or discuss next steps. Which I thought was good. Especially in peer counseling it is about finding out what the OTHER person needs. "
   ]
  },
  {
   "cell_type": "markdown",
   "id": "6f2eb21d-c5d9-44c1-8572-b7ee9279773b",
   "metadata": {},
   "source": [
    "### ChatGPT repsonse"
   ]
  },
  {
   "cell_type": "markdown",
   "id": "54872c93-4869-4874-aed1-6ea36f9e60ed",
   "metadata": {},
   "source": [
    "\n",
    "## ASSISTANT\n",
    "I'm really sorry to hear that. It's completely natural to feel upset after not getting something you really wanted. Remember, this one opportunity doesn't define your worth or potential. Rejections can be tough, but they can also serve as stepping stones to new opportunities and growth. Here are a few things that might help:\n",
    "\n",
    "1. **Reflect:** Consider any feedback you might have received and think about areas where you could improve. This can be a valuable learning experience.\n",
    "\n",
    "2. **Take Care of Yourself:** Allow yourself to feel sad, but don't be too hard on yourself. Do something that makes you happy or helps you to relax.\n",
    "\n",
    "3. **Seek Support:** Talk to friends, family, or mentors about how you're feeling. They can offer support, encouragement, and maybe even some advice.\n",
    "\n",
    "4. **Stay Positive:** Focus on past achievements and the skills you've developed. Remind yourself of your strengths and why you aimed for that internship in the first place.\n",
    "\n",
    "5. **Explore Other Opportunities:** There are many paths to success. Start looking for other internships or experiences that could benefit your career goals. Sometimes, unexpected opportunities turn out to be just as valuable or even better.\n",
    "\n",
    "6. **Keep Growing:** Use this experience to motivate yourself to learn and grow, improving your skills and building your resume for future opportunities.\n",
    "\n",
    "Remember, many successful people faced rejections on their way to where they are now. Keep believing in yourself and moving forward."
   ]
  },
  {
   "cell_type": "markdown",
   "id": "9928d9f2-c377-40f2-b522-8eda799e495d",
   "metadata": {},
   "source": [
    "### Commentary"
   ]
  },
  {
   "cell_type": "markdown",
   "id": "bfa4ff5d-bb06-4ac1-8b69-723e5562388a",
   "metadata": {},
   "source": [
    "Similar to anthropic the first phrase was \"I'm sorry\". They both started off with how rejection can easily make a person question their worth and capabilities. This experience did that for me. All of Chatgpts responses were focused on bettering me. While anthropic's second point, was about other successful people experiencing rejection. Which was not helpful to me and did not make me feel better. I liked how it gave 2 or 3 word action items. Overall the advice was the same as anthropic. ChatGPT had a bit more empathy. I think the biggest difference between these two LLMs vs. my mom and friends was the personal connection. The *people* that I talked to were able to remind me of past achievements.  "
   ]
  }
 ],
 "metadata": {
  "kernelspec": {
   "display_name": "Python 3-12 (COMM4190)",
   "language": "python",
   "name": "python3-12_comm4190"
  },
  "language_info": {
   "codemirror_mode": {
    "name": "ipython",
    "version": 3
   },
   "file_extension": ".py",
   "mimetype": "text/x-python",
   "name": "python",
   "nbconvert_exporter": "python",
   "pygments_lexer": "ipython3",
   "version": "3.12.8"
  }
 },
 "nbformat": 4,
 "nbformat_minor": 5
}
