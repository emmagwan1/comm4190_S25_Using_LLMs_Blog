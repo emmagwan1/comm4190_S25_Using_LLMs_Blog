{
 "cells": [
  {
   "cell_type": "raw",
   "id": "301470f6-1742-412b-81db-1c1be5a71ad5",
   "metadata": {},
   "source": [
    "---\n",
    "title: \"Weddings Part 1\"\n",
    "description: \"Comparing Anthropic vs ChatGPT\" \n",
    "author: \"Emma\"\n",
    "date: \"3/31/2025\"\n",
    "categories:\n",
    "  - LLMs\n",
    "  - Anthropic\n",
    "  - ChatGPT\n",
    "---"
   ]
  },
  {
   "cell_type": "markdown",
   "id": "4f2891eb-f1d1-4193-bb0d-c51d0b0fc729",
   "metadata": {},
   "source": [
    "### Introduction"
   ]
  },
  {
   "cell_type": "markdown",
   "id": "fc4c38f8-4b10-4e53-8620-f045a9bb38e0",
   "metadata": {},
   "source": [
    "This spring break one of my best had an engagement party! I am so excited for her. This had me thinking about my own wedding one day. I asked both ChatGPT and Anthropic to help me plan my future wedding. "
   ]
  },
  {
   "cell_type": "markdown",
   "id": "7a25d000-b5ab-4848-bba9-9b29e2fdea05",
   "metadata": {},
   "source": [
    "### Prompt: \n",
    "The prompt I gave each LLM was \"Help me plan a wedding\" "
   ]
  },
  {
   "cell_type": "markdown",
   "id": "4aa5e7c0-78bc-4d88-8e7d-b6c71511f373",
   "metadata": {},
   "source": [
    "### ChatGPT Response"
   ]
  },
  {
   "cell_type": "markdown",
   "id": "47c09781-f67c-4a03-94a0-676d59c2c6d8",
   "metadata": {},
   "source": [
    "# USER\n",
    "help me plan my wedding\n",
    "\n",
    "# ASSISTANT\n",
    "Congratulations on your upcoming wedding! Planning a wedding can be a wonderful yet complex process, but breaking down the tasks can make it more manageable. Here’s a step-by-step guide to help you plan:\n",
    "\n",
    "# 12+ Months Before\n",
    "1. **Set a Budget:** Determine how much you're willing to spend and who is contributing.\n",
    "2. **Draft a Guest List:** Consider the size of the wedding and compile a list of potential guests.\n",
    "3. **Choose a Date:** Pick a season or specific date for your wedding.\n",
    "4. **Hire a Planner (optional):** If needed, find a wedding planner to assist with organizing the event.\n",
    "5. **Book a Venue:** Secure your ceremony and reception locations early.\n",
    "\n",
    "# 9-12 Months Before\n",
    "1. **Select Wedding Party:** Choose bridesmaids, groomsmen, flower girls, etc.\n",
    "2. **Start Dress Shopping:** Begin looking for a gown, allow time for fittings and alterations.\n",
    "3. **Hire Key Vendors:**\n",
    "   - Photographer/videographer\n",
    "   - Caterer\n",
    "   - Band/DJ\n",
    "   - Florist\n",
    "\n",
    "# 6-9 Months Before\n",
    "1. **Send Save-the-Dates:** Inform people in advance to keep the date free.\n",
    "2. **Plan Ceremony Details:** Meet with officiant to discuss the ceremony.\n",
    "3. **Register for Gifts:** Set up your gift registries.\n",
    "4. **Book Transportation:** Arrange for limousines, carriages, or any unique transport.\n",
    "\n",
    "# 3-6 Months Before\n",
    "1. **Order Invitations:** Print wedding invitations, and plan when to send them.\n",
    "2. **Plan the Honeymoon:** Book flights and accommodations.\n",
    "3. **Buy Wedding Rings:** Choose and purchase your wedding bands.\n",
    "4. **Plan Wedding Day Timeline:** Coordinate with vendors on timing.\n",
    "\n",
    "# 2-3 Months Before\n",
    "1. **Mail Invitations:** Send out invitations and track RSVPs.\n",
    "2. **First Dress Fitting:** Schedule alterations as needed.\n",
    "3. **Finalize Menu and Flowers:** Confirm selections with caterer and florist.\n",
    "4. **Arrange Accommodations for Guests:** Reserve hotel blocks if necessary.\n",
    "\n",
    "# 1-2 Months Before\n",
    "1. **Get a Marriage License:** Check your local requirements.\n",
    "2. **Write Vows:** If personal vows are desired, complete them.\n",
    "3. **Plan Seating Chart:** Consider relationships and arrange tables.\n",
    "4. **Confirm Details with Vendors:** Double-check all arrangements.\n",
    "\n",
    "# 2 Weeks Before\n",
    "1. **Final Dress Fitting:** Check fittings and accessories.\n",
    "2. **Confirm Honeymoon Plans:** Ensure all travel documents are ready.\n",
    "3. **Delegate Tasks:** Assign responsibilities to wedding party members.\n",
    "\n",
    "# 1 Week Before\n",
    "1. **Rehearsal Dinner:** Plan and finalize with all involved.\n",
    "2. **Pack for Honeymoon:** Get luggage ready for departure.\n",
    "3. **Prepare Payments and Tips:** Organize payments for vendors.\n",
    "\n",
    "# Wedding Day\n",
    "1. **Relax and Enjoy:** Allow yourself to be a guest at your own wedding.\n",
    "2. **Hair and Makeup:** Schedule enough time for everyone.\n",
    "3. **Be on Time:** Follow your planned schedule closely.\n",
    "\n",
    "# Post-Wedding\n",
    "1. **Send Thank-You Notes:** Acknowledge gifts and guests’ presence.\n",
    "2. **Preserve Wedding Dress:** Consider professional cleaning and preservation.\n",
    "3. **Review Vendors:** Leave reviews or testimonials.\n",
    "\n",
    "Remember, every wedding is unique, so adjust these steps to fit your personal style and preferences. Enjoy your planning and have a fantastic wedding day!"
   ]
  },
  {
   "cell_type": "markdown",
   "id": "d19869af-7aed-4bb3-bff6-bd326bd6b92d",
   "metadata": {},
   "source": [
    "### Anthropic Response "
   ]
  },
  {
   "cell_type": "markdown",
   "id": "0063ca9d-efbc-4519-befb-075ee423ed89",
   "metadata": {},
   "source": [
    "\n",
    "# Planning Your Wedding\n",
    "\n",
    "Congratulations on your engagement! Planning a wedding can be both exciting and overwhelming. Here's a step-by-step approach to help you organize your special day:\n",
    "\n",
    "# Initial Planning (12+ months before)\n",
    "- Set a budget and determine who's contributing financially\n",
    "- Choose a wedding date (or a few potential dates)\n",
    "- Decide on the size and style of wedding you want\n",
    "- Start researching venues for both ceremony and reception\n",
    "- Begin creating your guest list\n",
    "- Consider hiring a wedding planner if it fits your budget\n",
    "\n",
    "# 9-12 Months Before\n",
    "- Book your ceremony and reception venues\n",
    "- Research and book key vendors:\n",
    "  * Photographer/videographer\n",
    "  * Caterer\n",
    "  * DJ/band\n",
    "  * Florist\n",
    "- Shop for wedding attire\n",
    "- Create a wedding website (if desired)\n",
    "- Send save-the-date notifications\n",
    "\n",
    "# 6-9 Months Before\n",
    "- Select and order invitations\n",
    "- Register for gifts\n",
    "- Book transportation\n",
    "- Reserve accommodations for out-of-town guests\n",
    "- Plan your honeymoon\n",
    "\n",
    "# 3-6 Months Before\n",
    "- Order the wedding cake\n",
    "- Purchase wedding rings\n",
    "- Arrange pre-wedding events (rehearsal dinner, etc.)\n",
    "- Finalize menu with caterer\n",
    "- Schedule hair and makeup trials\n",
    "\n",
    "Would you like me to go into more detail about any specific aspect of wedding planning?\n",
    "\n"
   ]
  },
  {
   "cell_type": "markdown",
   "id": "702d2029-e4aa-43f4-b45b-5a606e20772e",
   "metadata": {},
   "source": [
    "### Analysis"
   ]
  },
  {
   "cell_type": "markdown",
   "id": "7b72ed1e-f5ea-481b-86e8-990fdd11736f",
   "metadata": {},
   "source": [
    "I was pleased with both responses. What I noticed first was Anthropic did not add details as to what I should do the day of the wedding as well as afterward. It also seemed very formulaic, especially with the short bullet points. Both LLMs congratulated me on my \"engagement\" and acknowledged the emotions that wedding planning can evoke. Which was good and mimicked human conversation. ChatGPT assumed that a woman was asking for advice as in the 9-12 months section is said to find a **wedding dress** while anthropic said to find wedding **attire**. There was a difference in advice in the 6-9 months before category. The only thing that was the same in that category was register for gifts. Save the date,honeymoon planning, was on section off( by section I am referring to the month suggestions). One thing I felt was interesting that anthropic did not add to plan the wedding ceremony anywhere in its advice. One thing I would like to note with the 6-9 month timeline and the save the date and honeymoon planning being slightly off is potentially those things could be on the cusp. Anthropic also did not go into what to do the day of the wedding or up to two months before. This is interesting and I would of appreciated if anthropic would have included that without additional prompting. In conclusion I appreciated ChatGPTs response more as it is more thorough. "
   ]
  }
 ],
 "metadata": {
  "citation-manager": {
   "items": {}
  },
  "kernelspec": {
   "display_name": "Python 3-12 (COMM4190)",
   "language": "python",
   "name": "python3-12_comm4190"
  },
  "language_info": {
   "codemirror_mode": {
    "name": "ipython",
    "version": 3
   },
   "file_extension": ".py",
   "mimetype": "text/x-python",
   "name": "python",
   "nbconvert_exporter": "python",
   "pygments_lexer": "ipython3",
   "version": "3.12.8"
  }
 },
 "nbformat": 4,
 "nbformat_minor": 5
}
